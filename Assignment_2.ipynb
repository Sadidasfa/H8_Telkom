{
 "cells": [
  {
   "cell_type": "code",
   "execution_count": 302,
   "metadata": {},
   "outputs": [],
   "source": [
    "import math\n",
    "import statistics\n",
    "import numpy as np\n",
    "import scipy.stats\n",
    "import pandas as pd\n",
    "\n",
    "import matplotlib.pyplot as plt\n",
    "import seaborn as sns"
   ]
  },
  {
   "cell_type": "code",
   "execution_count": 303,
   "metadata": {},
   "outputs": [],
   "source": [
    "data_export = pd.read_excel('dataset/Feedback_Lat_2020.xlsx')"
   ]
  },
  {
   "cell_type": "code",
   "execution_count": 304,
   "metadata": {},
   "outputs": [
    {
     "data": {
      "text/html": [
       "<div>\n",
       "<style scoped>\n",
       "    .dataframe tbody tr th:only-of-type {\n",
       "        vertical-align: middle;\n",
       "    }\n",
       "\n",
       "    .dataframe tbody tr th {\n",
       "        vertical-align: top;\n",
       "    }\n",
       "\n",
       "    .dataframe thead th {\n",
       "        text-align: right;\n",
       "    }\n",
       "</style>\n",
       "<table border=\"1\" class=\"dataframe\">\n",
       "  <thead>\n",
       "    <tr style=\"text-align: right;\">\n",
       "      <th></th>\n",
       "      <th>Nama Pelatihan</th>\n",
       "      <th>Objid Pelatihan</th>\n",
       "      <th>Category</th>\n",
       "      <th>Tipe</th>\n",
       "      <th>Lokasi Pelatihan</th>\n",
       "      <th>Provider</th>\n",
       "      <th>Academy Event</th>\n",
       "      <th>Location</th>\n",
       "      <th>Provider Category</th>\n",
       "      <th>Event Type</th>\n",
       "      <th>...</th>\n",
       "      <th>UBPP Akom</th>\n",
       "      <th>UBPP Sarana</th>\n",
       "      <th>UBPP Laborat</th>\n",
       "      <th>UBPP Penyelenggaraan</th>\n",
       "      <th>UBPP Kafetaria</th>\n",
       "      <th>UBPP Materi</th>\n",
       "      <th>Net Promotor Score</th>\n",
       "      <th>Customer Satisfaction</th>\n",
       "      <th>First Response &amp; Average Handling</th>\n",
       "      <th>Customer Effort Score</th>\n",
       "    </tr>\n",
       "  </thead>\n",
       "  <tbody>\n",
       "    <tr>\n",
       "      <th>0</th>\n",
       "      <td>Social Media Ads &amp; Analytic</td>\n",
       "      <td>80114181</td>\n",
       "      <td>LAT</td>\n",
       "      <td>NaN</td>\n",
       "      <td>Bandung</td>\n",
       "      <td>Learning Area 2 Jakarta</td>\n",
       "      <td>CONSUMER</td>\n",
       "      <td>Online (Lokasi Masing-Masing)</td>\n",
       "      <td>Internal</td>\n",
       "      <td>Internal</td>\n",
       "      <td>...</td>\n",
       "      <td>0.0</td>\n",
       "      <td>0.0</td>\n",
       "      <td>0</td>\n",
       "      <td>0.0</td>\n",
       "      <td>0.0</td>\n",
       "      <td>0.0</td>\n",
       "      <td>0.0</td>\n",
       "      <td>0.0</td>\n",
       "      <td>0.0</td>\n",
       "      <td>0.0</td>\n",
       "    </tr>\n",
       "    <tr>\n",
       "      <th>1</th>\n",
       "      <td>CISM</td>\n",
       "      <td>80114269</td>\n",
       "      <td>LAT</td>\n",
       "      <td>Virtual Classroom</td>\n",
       "      <td>Bandung</td>\n",
       "      <td>Learning Area 3 / LO</td>\n",
       "      <td>NITS</td>\n",
       "      <td>Online (Lokasi Masing-Masing)</td>\n",
       "      <td>NaN</td>\n",
       "      <td>Public</td>\n",
       "      <td>...</td>\n",
       "      <td>0.0</td>\n",
       "      <td>0.0</td>\n",
       "      <td>0</td>\n",
       "      <td>0.0</td>\n",
       "      <td>0.0</td>\n",
       "      <td>0.0</td>\n",
       "      <td>0.0</td>\n",
       "      <td>0.0</td>\n",
       "      <td>0.0</td>\n",
       "      <td>0.0</td>\n",
       "    </tr>\n",
       "  </tbody>\n",
       "</table>\n",
       "<p>2 rows × 29 columns</p>\n",
       "</div>"
      ],
      "text/plain": [
       "                Nama Pelatihan  Objid Pelatihan Category               Tipe  \\\n",
       "0  Social Media Ads & Analytic         80114181      LAT                NaN   \n",
       "1                         CISM         80114269      LAT  Virtual Classroom   \n",
       "\n",
       "  Lokasi Pelatihan                 Provider Academy Event  \\\n",
       "0          Bandung  Learning Area 2 Jakarta      CONSUMER   \n",
       "1          Bandung     Learning Area 3 / LO          NITS   \n",
       "\n",
       "                        Location Provider Category Event Type  ... UBPP Akom  \\\n",
       "0  Online (Lokasi Masing-Masing)          Internal   Internal  ...       0.0   \n",
       "1  Online (Lokasi Masing-Masing)               NaN     Public  ...       0.0   \n",
       "\n",
       "  UBPP Sarana UBPP Laborat  UBPP Penyelenggaraan  UBPP Kafetaria  UBPP Materi  \\\n",
       "0         0.0            0                   0.0             0.0          0.0   \n",
       "1         0.0            0                   0.0             0.0          0.0   \n",
       "\n",
       "   Net Promotor Score  Customer Satisfaction  \\\n",
       "0                 0.0                    0.0   \n",
       "1                 0.0                    0.0   \n",
       "\n",
       "   First Response & Average Handling  Customer Effort Score  \n",
       "0                                0.0                    0.0  \n",
       "1                                0.0                    0.0  \n",
       "\n",
       "[2 rows x 29 columns]"
      ]
     },
     "execution_count": 304,
     "metadata": {},
     "output_type": "execute_result"
    }
   ],
   "source": [
    "data_pelatihan.head(2)"
   ]
  },
  {
   "cell_type": "code",
   "execution_count": 305,
   "metadata": {},
   "outputs": [
    {
     "data": {
      "text/plain": [
       "(1303, 29)"
      ]
     },
     "execution_count": 305,
     "metadata": {},
     "output_type": "execute_result"
    }
   ],
   "source": [
    "data_pelatihan.shape"
   ]
  },
  {
   "cell_type": "code",
   "execution_count": 306,
   "metadata": {},
   "outputs": [
    {
     "name": "stdout",
     "output_type": "stream",
     "text": [
      "<class 'pandas.core.frame.DataFrame'>\n",
      "Int64Index: 1303 entries, 0 to 1579\n",
      "Data columns (total 29 columns):\n",
      " #   Column                             Non-Null Count  Dtype  \n",
      "---  ------                             --------------  -----  \n",
      " 0   Nama Pelatihan                     1303 non-null   object \n",
      " 1   Objid Pelatihan                    1303 non-null   int64  \n",
      " 2   Category                           1303 non-null   object \n",
      " 3   Tipe                               712 non-null    object \n",
      " 4   Lokasi Pelatihan                   1245 non-null   object \n",
      " 5   Provider                           1261 non-null   object \n",
      " 6   Academy Event                      1260 non-null   object \n",
      " 7   Location                           1270 non-null   object \n",
      " 8   Provider Category                  1060 non-null   object \n",
      " 9   Event Type                         1290 non-null   object \n",
      " 10  Status                             1290 non-null   object \n",
      " 11  Tgl Mulai                          1303 non-null   object \n",
      " 12  Tgl Selesai                        1303 non-null   object \n",
      " 13  JML Peserta                        1303 non-null   int64  \n",
      " 14  JML Confirmed                      1303 non-null   int64  \n",
      " 15  JML Peserta Hadir                  1303 non-null   int64  \n",
      " 16  JML UBPP Inst                      1303 non-null   int64  \n",
      " 17  JML UBPP Delivery                  1303 non-null   int64  \n",
      " 18  UBPP Inst                          1261 non-null   float64\n",
      " 19  UBPP Akom                          1303 non-null   float64\n",
      " 20  UBPP Sarana                        1303 non-null   float64\n",
      " 21  UBPP Laborat                       1303 non-null   int64  \n",
      " 22  UBPP Penyelenggaraan               1303 non-null   float64\n",
      " 23  UBPP Kafetaria                     1303 non-null   float64\n",
      " 24  UBPP Materi                        1303 non-null   float64\n",
      " 25  Net Promotor Score                 1303 non-null   float64\n",
      " 26  Customer Satisfaction              1303 non-null   float64\n",
      " 27  First Response & Average Handling  1303 non-null   float64\n",
      " 28  Customer Effort Score              1303 non-null   float64\n",
      "dtypes: float64(10), int64(7), object(12)\n",
      "memory usage: 305.4+ KB\n"
     ]
    }
   ],
   "source": [
    "data_pelatihan.info()"
   ]
  },
  {
   "cell_type": "code",
   "execution_count": 307,
   "metadata": {},
   "outputs": [
    {
     "data": {
      "text/html": [
       "<div>\n",
       "<style scoped>\n",
       "    .dataframe tbody tr th:only-of-type {\n",
       "        vertical-align: middle;\n",
       "    }\n",
       "\n",
       "    .dataframe tbody tr th {\n",
       "        vertical-align: top;\n",
       "    }\n",
       "\n",
       "    .dataframe thead th {\n",
       "        text-align: right;\n",
       "    }\n",
       "</style>\n",
       "<table border=\"1\" class=\"dataframe\">\n",
       "  <thead>\n",
       "    <tr style=\"text-align: right;\">\n",
       "      <th></th>\n",
       "      <th>Objid Pelatihan</th>\n",
       "      <th>JML Peserta</th>\n",
       "      <th>JML Confirmed</th>\n",
       "      <th>JML Peserta Hadir</th>\n",
       "      <th>JML UBPP Inst</th>\n",
       "      <th>JML UBPP Delivery</th>\n",
       "      <th>UBPP Inst</th>\n",
       "      <th>UBPP Akom</th>\n",
       "      <th>UBPP Sarana</th>\n",
       "      <th>UBPP Laborat</th>\n",
       "      <th>UBPP Penyelenggaraan</th>\n",
       "      <th>UBPP Kafetaria</th>\n",
       "      <th>UBPP Materi</th>\n",
       "      <th>Net Promotor Score</th>\n",
       "      <th>Customer Satisfaction</th>\n",
       "      <th>First Response &amp; Average Handling</th>\n",
       "      <th>Customer Effort Score</th>\n",
       "    </tr>\n",
       "  </thead>\n",
       "  <tbody>\n",
       "    <tr>\n",
       "      <th>count</th>\n",
       "      <td>1.303000e+03</td>\n",
       "      <td>1303.000000</td>\n",
       "      <td>1303.000000</td>\n",
       "      <td>1303.000000</td>\n",
       "      <td>1303.000000</td>\n",
       "      <td>1303.000000</td>\n",
       "      <td>1261.000000</td>\n",
       "      <td>1303.000000</td>\n",
       "      <td>1303.000000</td>\n",
       "      <td>1303.0</td>\n",
       "      <td>1303.000000</td>\n",
       "      <td>1303.000000</td>\n",
       "      <td>1303.000000</td>\n",
       "      <td>1303.000000</td>\n",
       "      <td>1303.000000</td>\n",
       "      <td>1303.000000</td>\n",
       "      <td>1303.000000</td>\n",
       "    </tr>\n",
       "    <tr>\n",
       "      <th>mean</th>\n",
       "      <td>8.172231e+07</td>\n",
       "      <td>39.025326</td>\n",
       "      <td>22.981581</td>\n",
       "      <td>28.485802</td>\n",
       "      <td>11.248657</td>\n",
       "      <td>15.635457</td>\n",
       "      <td>50.801642</td>\n",
       "      <td>33.120215</td>\n",
       "      <td>62.152947</td>\n",
       "      <td>0.0</td>\n",
       "      <td>63.565840</td>\n",
       "      <td>32.964827</td>\n",
       "      <td>63.740867</td>\n",
       "      <td>47.769210</td>\n",
       "      <td>61.430184</td>\n",
       "      <td>63.908573</td>\n",
       "      <td>63.433883</td>\n",
       "    </tr>\n",
       "    <tr>\n",
       "      <th>std</th>\n",
       "      <td>3.652143e+06</td>\n",
       "      <td>102.297344</td>\n",
       "      <td>70.368481</td>\n",
       "      <td>67.033256</td>\n",
       "      <td>22.308262</td>\n",
       "      <td>30.155942</td>\n",
       "      <td>40.631490</td>\n",
       "      <td>40.011366</td>\n",
       "      <td>39.712777</td>\n",
       "      <td>0.0</td>\n",
       "      <td>40.238506</td>\n",
       "      <td>39.955990</td>\n",
       "      <td>40.400794</td>\n",
       "      <td>40.119253</td>\n",
       "      <td>39.331669</td>\n",
       "      <td>40.527948</td>\n",
       "      <td>40.207933</td>\n",
       "    </tr>\n",
       "    <tr>\n",
       "      <th>min</th>\n",
       "      <td>8.011078e+07</td>\n",
       "      <td>1.000000</td>\n",
       "      <td>0.000000</td>\n",
       "      <td>0.000000</td>\n",
       "      <td>0.000000</td>\n",
       "      <td>0.000000</td>\n",
       "      <td>0.000000</td>\n",
       "      <td>0.000000</td>\n",
       "      <td>0.000000</td>\n",
       "      <td>0.0</td>\n",
       "      <td>0.000000</td>\n",
       "      <td>0.000000</td>\n",
       "      <td>0.000000</td>\n",
       "      <td>-100.000000</td>\n",
       "      <td>0.000000</td>\n",
       "      <td>0.000000</td>\n",
       "      <td>0.000000</td>\n",
       "    </tr>\n",
       "    <tr>\n",
       "      <th>25%</th>\n",
       "      <td>8.011263e+07</td>\n",
       "      <td>3.000000</td>\n",
       "      <td>0.000000</td>\n",
       "      <td>1.000000</td>\n",
       "      <td>0.000000</td>\n",
       "      <td>0.000000</td>\n",
       "      <td>0.000000</td>\n",
       "      <td>0.000000</td>\n",
       "      <td>0.000000</td>\n",
       "      <td>0.0</td>\n",
       "      <td>0.000000</td>\n",
       "      <td>0.000000</td>\n",
       "      <td>0.000000</td>\n",
       "      <td>0.000000</td>\n",
       "      <td>0.000000</td>\n",
       "      <td>0.000000</td>\n",
       "      <td>0.000000</td>\n",
       "    </tr>\n",
       "    <tr>\n",
       "      <th>50%</th>\n",
       "      <td>8.011326e+07</td>\n",
       "      <td>15.000000</td>\n",
       "      <td>8.000000</td>\n",
       "      <td>12.000000</td>\n",
       "      <td>4.000000</td>\n",
       "      <td>6.000000</td>\n",
       "      <td>75.390000</td>\n",
       "      <td>0.000000</td>\n",
       "      <td>84.000000</td>\n",
       "      <td>0.0</td>\n",
       "      <td>86.310000</td>\n",
       "      <td>0.000000</td>\n",
       "      <td>86.880000</td>\n",
       "      <td>58.330000</td>\n",
       "      <td>83.080000</td>\n",
       "      <td>86.940000</td>\n",
       "      <td>86.160000</td>\n",
       "    </tr>\n",
       "    <tr>\n",
       "      <th>75%</th>\n",
       "      <td>8.011395e+07</td>\n",
       "      <td>32.000000</td>\n",
       "      <td>24.000000</td>\n",
       "      <td>28.000000</td>\n",
       "      <td>16.000000</td>\n",
       "      <td>20.000000</td>\n",
       "      <td>85.420000</td>\n",
       "      <td>76.180000</td>\n",
       "      <td>90.000000</td>\n",
       "      <td>0.0</td>\n",
       "      <td>90.725000</td>\n",
       "      <td>76.935000</td>\n",
       "      <td>91.070000</td>\n",
       "      <td>80.000000</td>\n",
       "      <td>89.620000</td>\n",
       "      <td>91.050000</td>\n",
       "      <td>90.670000</td>\n",
       "    </tr>\n",
       "    <tr>\n",
       "      <th>max</th>\n",
       "      <td>9.000456e+07</td>\n",
       "      <td>1576.000000</td>\n",
       "      <td>1209.000000</td>\n",
       "      <td>790.000000</td>\n",
       "      <td>336.000000</td>\n",
       "      <td>343.000000</td>\n",
       "      <td>100.000000</td>\n",
       "      <td>100.000000</td>\n",
       "      <td>100.000000</td>\n",
       "      <td>0.0</td>\n",
       "      <td>100.000000</td>\n",
       "      <td>100.000000</td>\n",
       "      <td>100.000000</td>\n",
       "      <td>100.000000</td>\n",
       "      <td>100.000000</td>\n",
       "      <td>100.000000</td>\n",
       "      <td>100.000000</td>\n",
       "    </tr>\n",
       "  </tbody>\n",
       "</table>\n",
       "</div>"
      ],
      "text/plain": [
       "       Objid Pelatihan  JML Peserta  JML Confirmed  JML Peserta Hadir  \\\n",
       "count     1.303000e+03  1303.000000    1303.000000        1303.000000   \n",
       "mean      8.172231e+07    39.025326      22.981581          28.485802   \n",
       "std       3.652143e+06   102.297344      70.368481          67.033256   \n",
       "min       8.011078e+07     1.000000       0.000000           0.000000   \n",
       "25%       8.011263e+07     3.000000       0.000000           1.000000   \n",
       "50%       8.011326e+07    15.000000       8.000000          12.000000   \n",
       "75%       8.011395e+07    32.000000      24.000000          28.000000   \n",
       "max       9.000456e+07  1576.000000    1209.000000         790.000000   \n",
       "\n",
       "       JML UBPP Inst  JML UBPP Delivery    UBPP Inst    UBPP Akom  \\\n",
       "count    1303.000000        1303.000000  1261.000000  1303.000000   \n",
       "mean       11.248657          15.635457    50.801642    33.120215   \n",
       "std        22.308262          30.155942    40.631490    40.011366   \n",
       "min         0.000000           0.000000     0.000000     0.000000   \n",
       "25%         0.000000           0.000000     0.000000     0.000000   \n",
       "50%         4.000000           6.000000    75.390000     0.000000   \n",
       "75%        16.000000          20.000000    85.420000    76.180000   \n",
       "max       336.000000         343.000000   100.000000   100.000000   \n",
       "\n",
       "       UBPP Sarana  UBPP Laborat  UBPP Penyelenggaraan  UBPP Kafetaria  \\\n",
       "count  1303.000000        1303.0           1303.000000     1303.000000   \n",
       "mean     62.152947           0.0             63.565840       32.964827   \n",
       "std      39.712777           0.0             40.238506       39.955990   \n",
       "min       0.000000           0.0              0.000000        0.000000   \n",
       "25%       0.000000           0.0              0.000000        0.000000   \n",
       "50%      84.000000           0.0             86.310000        0.000000   \n",
       "75%      90.000000           0.0             90.725000       76.935000   \n",
       "max     100.000000           0.0            100.000000      100.000000   \n",
       "\n",
       "       UBPP Materi  Net Promotor Score  Customer Satisfaction  \\\n",
       "count  1303.000000         1303.000000            1303.000000   \n",
       "mean     63.740867           47.769210              61.430184   \n",
       "std      40.400794           40.119253              39.331669   \n",
       "min       0.000000         -100.000000               0.000000   \n",
       "25%       0.000000            0.000000               0.000000   \n",
       "50%      86.880000           58.330000              83.080000   \n",
       "75%      91.070000           80.000000              89.620000   \n",
       "max     100.000000          100.000000             100.000000   \n",
       "\n",
       "       First Response & Average Handling  Customer Effort Score  \n",
       "count                        1303.000000            1303.000000  \n",
       "mean                           63.908573              63.433883  \n",
       "std                            40.527948              40.207933  \n",
       "min                             0.000000               0.000000  \n",
       "25%                             0.000000               0.000000  \n",
       "50%                            86.940000              86.160000  \n",
       "75%                            91.050000              90.670000  \n",
       "max                           100.000000             100.000000  "
      ]
     },
     "execution_count": 307,
     "metadata": {},
     "output_type": "execute_result"
    }
   ],
   "source": [
    "data_pelatihan.describe()"
   ]
  },
  {
   "cell_type": "code",
   "execution_count": 308,
   "metadata": {},
   "outputs": [],
   "source": [
    "cleanCS = data_pelatihan[['Customer Satisfaction']]"
   ]
  },
  {
   "cell_type": "code",
   "execution_count": 309,
   "metadata": {},
   "outputs": [],
   "source": [
    "data_CS = cleanCS.loc[~(cleanCS==0).all(axis=1)]"
   ]
  },
  {
   "cell_type": "code",
   "execution_count": 310,
   "metadata": {},
   "outputs": [
    {
     "name": "stdout",
     "output_type": "stream",
     "text": [
      "<class 'pandas.core.frame.DataFrame'>\n",
      "Int64Index: 935 entries, 7 to 1564\n",
      "Data columns (total 1 columns):\n",
      " #   Column                 Non-Null Count  Dtype  \n",
      "---  ------                 --------------  -----  \n",
      " 0   Customer Satisfaction  935 non-null    float64\n",
      "dtypes: float64(1)\n",
      "memory usage: 14.6 KB\n"
     ]
    }
   ],
   "source": [
    "data_CS.info()"
   ]
  },
  {
   "cell_type": "code",
   "execution_count": 311,
   "metadata": {},
   "outputs": [],
   "source": [
    "cleanMat = data_pelatihan[['UBPP Materi']]"
   ]
  },
  {
   "cell_type": "code",
   "execution_count": 312,
   "metadata": {},
   "outputs": [],
   "source": [
    "data_Mat = cleanMat.loc[~(cleanMat==0).all(axis=1)]"
   ]
  },
  {
   "cell_type": "code",
   "execution_count": 313,
   "metadata": {},
   "outputs": [
    {
     "name": "stdout",
     "output_type": "stream",
     "text": [
      "<class 'pandas.core.frame.DataFrame'>\n",
      "Int64Index: 935 entries, 7 to 1564\n",
      "Data columns (total 1 columns):\n",
      " #   Column       Non-Null Count  Dtype  \n",
      "---  ------       --------------  -----  \n",
      " 0   UBPP Materi  935 non-null    float64\n",
      "dtypes: float64(1)\n",
      "memory usage: 14.6 KB\n"
     ]
    }
   ],
   "source": [
    "data_Mat.info()"
   ]
  },
  {
   "cell_type": "markdown",
   "metadata": {},
   "source": [
    "# Measure of Central Tendency"
   ]
  },
  {
   "cell_type": "markdown",
   "metadata": {},
   "source": [
    "### Mean"
   ]
  },
  {
   "cell_type": "code",
   "execution_count": 314,
   "metadata": {},
   "outputs": [
    {
     "name": "stdout",
     "output_type": "stream",
     "text": [
      "Customer Satisfaction    85.608053\n",
      "dtype: float64\n"
     ]
    }
   ],
   "source": [
    "meanCS= data_CS.mean()\n",
    "print(meanCS)"
   ]
  },
  {
   "cell_type": "code",
   "execution_count": 315,
   "metadata": {},
   "outputs": [
    {
     "name": "stdout",
     "output_type": "stream",
     "text": [
      "UBPP Materi    88.828182\n",
      "dtype: float64\n"
     ]
    }
   ],
   "source": [
    "meanMat = data_Mat.mean()\n",
    "print(meanMat)"
   ]
  },
  {
   "cell_type": "markdown",
   "metadata": {},
   "source": [
    "Rata-rata kepuasan Customer Telkom Corporate Univeristy selama 2020 adalah 85.608053\n",
    "sedangkan skor rata-rata kepuasan umpan balik materi pelatihan sedikit lebih tinggi yaitu 88.828182"
   ]
  },
  {
   "cell_type": "markdown",
   "metadata": {},
   "source": [
    "### Median"
   ]
  },
  {
   "cell_type": "code",
   "execution_count": 316,
   "metadata": {},
   "outputs": [
    {
     "data": {
      "text/plain": [
       "Customer Satisfaction    86.86\n",
       "dtype: float64"
      ]
     },
     "execution_count": 316,
     "metadata": {},
     "output_type": "execute_result"
    }
   ],
   "source": [
    "data_CS.median()"
   ]
  },
  {
   "cell_type": "code",
   "execution_count": 317,
   "metadata": {},
   "outputs": [
    {
     "data": {
      "text/plain": [
       "UBPP Materi    89.42\n",
       "dtype: float64"
      ]
     },
     "execution_count": 317,
     "metadata": {},
     "output_type": "execute_result"
    }
   ],
   "source": [
    "data_Mat.median()"
   ]
  },
  {
   "cell_type": "markdown",
   "metadata": {},
   "source": [
    "Median kepuasan Customer Telkom Corporate Univeristy selama 2020 adalah 86.86\n",
    "sedangkan skor median kepuasan umpan balik materi pelatihan sedikit lebih tinggi yaitu 89.42"
   ]
  },
  {
   "cell_type": "markdown",
   "metadata": {},
   "source": [
    "## Modus"
   ]
  },
  {
   "cell_type": "code",
   "execution_count": 318,
   "metadata": {},
   "outputs": [],
   "source": [
    "data_C = data_pelatihan[['JML Peserta']]"
   ]
  },
  {
   "cell_type": "code",
   "execution_count": 319,
   "metadata": {},
   "outputs": [
    {
     "data": {
      "text/html": [
       "<div>\n",
       "<style scoped>\n",
       "    .dataframe tbody tr th:only-of-type {\n",
       "        vertical-align: middle;\n",
       "    }\n",
       "\n",
       "    .dataframe tbody tr th {\n",
       "        vertical-align: top;\n",
       "    }\n",
       "\n",
       "    .dataframe thead th {\n",
       "        text-align: right;\n",
       "    }\n",
       "</style>\n",
       "<table border=\"1\" class=\"dataframe\">\n",
       "  <thead>\n",
       "    <tr style=\"text-align: right;\">\n",
       "      <th></th>\n",
       "      <th>JML Peserta</th>\n",
       "    </tr>\n",
       "  </thead>\n",
       "  <tbody>\n",
       "    <tr>\n",
       "      <th>0</th>\n",
       "      <td>28</td>\n",
       "    </tr>\n",
       "    <tr>\n",
       "      <th>1</th>\n",
       "      <td>4</td>\n",
       "    </tr>\n",
       "  </tbody>\n",
       "</table>\n",
       "</div>"
      ],
      "text/plain": [
       "   JML Peserta\n",
       "0           28\n",
       "1            4"
      ]
     },
     "execution_count": 319,
     "metadata": {},
     "output_type": "execute_result"
    }
   ],
   "source": [
    "data_C.head(2)"
   ]
  },
  {
   "cell_type": "code",
   "execution_count": 320,
   "metadata": {},
   "outputs": [
    {
     "name": "stdout",
     "output_type": "stream",
     "text": [
      "0    1\n",
      "dtype: int64\n"
     ]
    }
   ],
   "source": [
    "modus_pelatihan = data_C['JML Peserta'].mode()\n",
    "print(modus_pelatihan)"
   ]
  },
  {
   "cell_type": "markdown",
   "metadata": {},
   "source": [
    "Mayoritas pelatihan di Telkom Corporate University ternyata adalah pelatihan individual yang hanya diikuti oleh 1 orang saja"
   ]
  },
  {
   "cell_type": "markdown",
   "metadata": {},
   "source": [
    "# Measure of spread"
   ]
  },
  {
   "cell_type": "markdown",
   "metadata": {},
   "source": [
    "# Range"
   ]
  },
  {
   "cell_type": "code",
   "execution_count": 321,
   "metadata": {},
   "outputs": [
    {
     "name": "stdout",
     "output_type": "stream",
     "text": [
      "100.0\n"
     ]
    }
   ],
   "source": [
    "range_CS = np.ptp(cleanCS['Customer Satisfaction'])\n",
    "print(range_CS)"
   ]
  },
  {
   "cell_type": "code",
   "execution_count": 322,
   "metadata": {},
   "outputs": [
    {
     "name": "stdout",
     "output_type": "stream",
     "text": [
      "100.0\n"
     ]
    }
   ],
   "source": [
    "range_Mat = np.ptp(cleanMat['UBPP Materi'])\n",
    "print(range_Mat)"
   ]
  },
  {
   "cell_type": "markdown",
   "metadata": {},
   "source": [
    "## Variance"
   ]
  },
  {
   "cell_type": "code",
   "execution_count": 323,
   "metadata": {},
   "outputs": [
    {
     "name": "stdout",
     "output_type": "stream",
     "text": [
      "84.46064609992101\n"
     ]
    }
   ],
   "source": [
    "var_CS = np.var(data_CS['Customer Satisfaction'], ddof=1)\n",
    "print(var_CS)"
   ]
  },
  {
   "cell_type": "code",
   "execution_count": 324,
   "metadata": {},
   "outputs": [
    {
     "name": "stdout",
     "output_type": "stream",
     "text": [
      "44.481025598598265\n"
     ]
    }
   ],
   "source": [
    "var_Mat = np.var(data_Mat['UBPP Materi'], ddof=1)\n",
    "print(var_Mat)"
   ]
  },
  {
   "cell_type": "markdown",
   "metadata": {},
   "source": [
    "Variance Customer Satisfaction adalah 84.46064609992101 sedangkan UBPP Materi lebih rendah variansinya yaitu hanya 44.481025598598265"
   ]
  },
  {
   "cell_type": "markdown",
   "metadata": {},
   "source": [
    "## Standar Deviation"
   ]
  },
  {
   "cell_type": "code",
   "execution_count": 325,
   "metadata": {},
   "outputs": [
    {
     "name": "stdout",
     "output_type": "stream",
     "text": [
      "9.190247336166802\n"
     ]
    }
   ],
   "source": [
    "std_CS = np.std(data_CS['Customer Satisfaction'], ddof=1)\n",
    "print(std_CS)"
   ]
  },
  {
   "cell_type": "code",
   "execution_count": 326,
   "metadata": {},
   "outputs": [
    {
     "name": "stdout",
     "output_type": "stream",
     "text": [
      "6.669409688915374\n"
     ]
    }
   ],
   "source": [
    "std_Mat = np.std(data_Mat['UBPP Materi'], ddof=1)\n",
    "print(std_Mat)"
   ]
  },
  {
   "cell_type": "markdown",
   "metadata": {},
   "source": [
    "Standar Deviation Customer Satisfaction adalah 9.190247336166802 sedangkan UBPP Materi 6.669409688915374"
   ]
  },
  {
   "cell_type": "markdown",
   "metadata": {},
   "source": [
    "## Probability Distribution"
   ]
  },
  {
   "cell_type": "code",
   "execution_count": 327,
   "metadata": {},
   "outputs": [
    {
     "data": {
      "text/plain": [
       "[Text(0, 0.5, 'Frequency'), Text(0.5, 0, 'Distribution')]"
      ]
     },
     "execution_count": 327,
     "metadata": {},
     "output_type": "execute_result"
    },
    {
     "data": {
      "image/png": "[encoded data removed]",
      "text/plain": [
       "<Figure size 432x288 with 1 Axes>"
      ]
     },
     "metadata": {
      "needs_background": "light"
     },
     "output_type": "display_data"
    }
   ],
   "source": [
    "ax = sns.distplot(data_CS,\n",
    "                 bins=10,\n",
    "                 kde=True,\n",
    "                 color='skyblue',\n",
    "                 hist_kws={'linewidth':15})\n",
    "\n",
    "ax.set(xlabel='Distribution',\n",
    "      ylabel='Frequency')"
   ]
  },
  {
   "cell_type": "code",
   "execution_count": 328,
   "metadata": {},
   "outputs": [
    {
     "data": {
      "text/plain": [
       "[Text(0, 0.5, 'Frequency'), Text(0.5, 0, 'Distribution')]"
      ]
     },
     "execution_count": 328,
     "metadata": {},
     "output_type": "execute_result"
    },
    {
     "data": {
      "image/png": "[encoded data removed]",
      "text/plain": [
       "<Figure size 432x288 with 1 Axes>"
      ]
     },
     "metadata": {
      "needs_background": "light"
     },
     "output_type": "display_data"
    }
   ],
   "source": [
    "ay = sns.distplot(data_Mat,\n",
    "                 bins=10,\n",
    "                 kde=True,\n",
    "                 color='skyblue',\n",
    "                 hist_kws={'linewidth':15})\n",
    "\n",
    "ay.set(xlabel='Distribution',\n",
    "      ylabel='Frequency')"
   ]
  },
  {
   "cell_type": "markdown",
   "metadata": {},
   "source": [
    "Dari visualisasi data terlihat ternyata baik Customer Satisfaction dan Umpan Balik Peserta Pelatihan (UBPP) Materi keduanya merupakan negative skewness dengan ekor kiri lebih panjang. Hal ini menandakan bahwa mayoritas score Customer Satisfaction dan UBPP Materi memiliki nilai tinggi (lebih dari 80)"
   ]
  },
  {
   "cell_type": "markdown",
   "metadata": {},
   "source": [
    "## Confidence Intervals"
   ]
  },
  {
   "cell_type": "code",
   "execution_count": 329,
   "metadata": {},
   "outputs": [
    {
     "name": "stdout",
     "output_type": "stream",
     "text": [
      "Lower Limit of Cust Satisfaction :  Customer Satisfaction    85.018969\n",
      "dtype: float64\n",
      "Upper Limit of Cust Satisfaction :  Customer Satisfaction    86.197138\n",
      "dtype: float64\n"
     ]
    }
   ],
   "source": [
    "# Confidence Intervals Customer Satisfaction\n",
    "\n",
    "n = data_CS['Customer Satisfaction'].count()\n",
    "z = 1.96\n",
    "\n",
    "SE = std_CS / np.sqrt(n)\n",
    "lcb = meanCS - z* SE #lower\n",
    "ucb = meanCS + z* SE #Upper\n",
    "print ('Lower Limit of Cust Satisfaction : ', lcb)\n",
    "print ('Upper Limit of Cust Satisfaction : ', ucb)"
   ]
  },
  {
   "cell_type": "code",
   "execution_count": 330,
   "metadata": {},
   "outputs": [
    {
     "name": "stdout",
     "output_type": "stream",
     "text": [
      "Lower Limit of UBPP Materi :  UBPP Materi    88.40068\n",
      "dtype: float64\n",
      "Upper Limit of UBPP Materi :  UBPP Materi    89.255683\n",
      "dtype: float64\n"
     ]
    }
   ],
   "source": [
    "# Confidence Intervals UBPP Materi\n",
    "\n",
    "n2 = data_Mat['UBPP Materi'].count()\n",
    "z = 1.96\n",
    "\n",
    "SE2 = std_Mat / np.sqrt(n2)\n",
    "lcb = meanMat - z* SE2 #lower\n",
    "ucb = meanMat + z* SE2 #Upper\n",
    "print ('Lower Limit of UBPP Materi : ', lcb)\n",
    "print ('Upper Limit of UBPP Materi : ', ucb)"
   ]
  },
  {
   "cell_type": "markdown",
   "metadata": {},
   "source": [
    "CI Customer Satisfaction antara 85.018969 sampai 86.197138\n",
    "sedangkan\n",
    "CI UBPP Materi antara antara 88.40068 sampai 88.40068"
   ]
  },
  {
   "cell_type": "markdown",
   "metadata": {},
   "source": [
    "## Hypothesis Testing"
   ]
  },
  {
   "cell_type": "markdown",
   "metadata": {},
   "source": [
    "Sekarang kita akan menguji apakah kepuasan customer (customer satisfaction) memiliki hubungan monotonic dengan kualitas materi (UBPP Materi) menggunakan beberapa cara sebagai berikut :\n",
    "\n",
    "H0 : Cust satisfaction dan UBPP materi masing-masing bersifat independen\n",
    "H1 : Terdapat dependency antara Customer Satisfction dan UBPP Materi"
   ]
  },
  {
   "cell_type": "code",
   "execution_count": 331,
   "metadata": {},
   "outputs": [
    {
     "name": "stdout",
     "output_type": "stream",
     "text": [
      "stat=nan, p=nan\n",
      "Probably dependent\n"
     ]
    }
   ],
   "source": [
    "#Spearman's Rank Correlation\n",
    "\n",
    "from scipy.stats import spearmanr\n",
    "stat, p = spearmanr('data_CS', 'data_Mat')\n",
    "print('stat=%3f, p=%.3f' % (stat, p))\n",
    "if p> 0.05:\n",
    "    print('Probably Independent')\n",
    "    \n",
    "else:\n",
    "    print('Probably dependent')"
   ]
  },
  {
   "cell_type": "code",
   "execution_count": 332,
   "metadata": {},
   "outputs": [
    {
     "name": "stdout",
     "output_type": "stream",
     "text": [
      "stat=nan, p=nan\n",
      "Probably dependent\n"
     ]
    }
   ],
   "source": [
    "#Kendall's Rank Correlation\n",
    "\n",
    "from scipy.stats import kendalltau\n",
    "stat, p = spearmanr('data_CS', 'data_Mat')\n",
    "print('stat=%3f, p=%.3f' % (stat, p))\n",
    "if p> 0.05:\n",
    "    print('Probably Independent')\n",
    "    \n",
    "else:\n",
    "    print('Probably dependent')"
   ]
  },
  {
   "cell_type": "markdown",
   "metadata": {},
   "source": [
    "Dari pengecekan Spearman dan Kendall terdapat kemungkinan dependency antara data kepuasan customer dan UBPP materi."
   ]
  }
 ],
 "metadata": {
  "kernelspec": {
   "display_name": "Python 3",
   "language": "python",
   "name": "python3"
  },
  "language_info": {
   "codemirror_mode": {
    "name": "ipython",
    "version": 3
   },
   "file_extension": ".py",
   "mimetype": "text/x-python",
   "name": "python",
   "nbconvert_exporter": "python",
   "pygments_lexer": "ipython3",
   "version": "3.8.3"
  }
 },
 "nbformat": 4,
 "nbformat_minor": 4
}
