{
 "cells": [
  {
   "cell_type": "markdown",
   "metadata": {},
   "source": [
    "Dalam setiap pelatihan, peserta selalu diberi evaluasi mengenai beberapa hal termasuk First Response & Average Handling serta Customer Effort Score\n",
    "\n",
    "#### First Response & Average Handling\n",
    "Serangkaian pertanyaan yang menilai seberapa responsif penyelenggara dalam menanggapi customer\n",
    "\n",
    "#### Customer Effort Score\n",
    "Serangkaian pertanyaan yang menilai terkait upaya yang dilakukan customer untuk memenuhi kebutuhannya\n",
    "Data Cuctomer Effort Score dikategorikan menjadi CES Tinggi dan CES Rendah\n",
    "\n",
    "Dalam assignment ini dilihat prediksi First Response terhadapat Kategori Customer Effort Score"
   ]
  },
  {
   "cell_type": "code",
   "execution_count": 11,
   "metadata": {},
   "outputs": [],
   "source": [
    "# importing libraries\n",
    "import numpy as np\n",
    "import pandas as pd\n",
    "import matplotlib as mpl\n",
    "import matplotlib.pyplot as plt\n",
    "import folium\n",
    "mpl.style.use(['ggplot'])\n",
    "\n",
    "%matplotlib inline\n",
    "\n",
    "# reading csv data\n",
    "feedback_Lat = pd.read_excel('dataset/Feedback_Lat2_2020.xlsx')"
   ]
  },
  {
   "cell_type": "code",
   "execution_count": 12,
   "metadata": {},
   "outputs": [
    {
     "data": {
      "text/html": [
       "<div>\n",
       "<style scoped>\n",
       "    .dataframe tbody tr th:only-of-type {\n",
       "        vertical-align: middle;\n",
       "    }\n",
       "\n",
       "    .dataframe tbody tr th {\n",
       "        vertical-align: top;\n",
       "    }\n",
       "\n",
       "    .dataframe thead th {\n",
       "        text-align: right;\n",
       "    }\n",
       "</style>\n",
       "<table border=\"1\" class=\"dataframe\">\n",
       "  <thead>\n",
       "    <tr style=\"text-align: right;\">\n",
       "      <th></th>\n",
       "      <th>Nama Pelatihan</th>\n",
       "      <th>Objid Pelatihan</th>\n",
       "      <th>Category</th>\n",
       "      <th>Tipe</th>\n",
       "      <th>Lokasi Pelatihan</th>\n",
       "      <th>Provider</th>\n",
       "      <th>Academy Event</th>\n",
       "      <th>Location</th>\n",
       "      <th>Provider Category</th>\n",
       "      <th>Event Type</th>\n",
       "      <th>...</th>\n",
       "      <th>JML UBPP Inst</th>\n",
       "      <th>JML UBPP Delivery</th>\n",
       "      <th>UBPP Penyelenggaraan</th>\n",
       "      <th>UBPP Materi</th>\n",
       "      <th>Net Promotor Score</th>\n",
       "      <th>Customer Satisfaction</th>\n",
       "      <th>Customer Satisfaction Category</th>\n",
       "      <th>First Response &amp; Average Handling</th>\n",
       "      <th>Customer Effort Score</th>\n",
       "      <th>Customer Effort Score Category</th>\n",
       "    </tr>\n",
       "  </thead>\n",
       "  <tbody>\n",
       "    <tr>\n",
       "      <th>0</th>\n",
       "      <td>Exam AWS Cloud Practitioner Essentials 1</td>\n",
       "      <td>80114054</td>\n",
       "      <td>LAT</td>\n",
       "      <td>Test Online</td>\n",
       "      <td>Bandung</td>\n",
       "      <td>Learning Area 3 Bandung</td>\n",
       "      <td>DSP</td>\n",
       "      <td>Telkom Corporate University</td>\n",
       "      <td>Internal</td>\n",
       "      <td>Public</td>\n",
       "      <td>...</td>\n",
       "      <td>0</td>\n",
       "      <td>1</td>\n",
       "      <td>100.0</td>\n",
       "      <td>100.0</td>\n",
       "      <td>100.0</td>\n",
       "      <td>100.0</td>\n",
       "      <td>Satisfaction Tinggi</td>\n",
       "      <td>100.0</td>\n",
       "      <td>100.0</td>\n",
       "      <td>CES Tinggi</td>\n",
       "    </tr>\n",
       "    <tr>\n",
       "      <th>1</th>\n",
       "      <td>Exam AWS Cloud Practitioner Essentials 3</td>\n",
       "      <td>80114058</td>\n",
       "      <td>LAT</td>\n",
       "      <td>Test Online</td>\n",
       "      <td>Bandung</td>\n",
       "      <td>Learning Area 3 / LO Bandung</td>\n",
       "      <td>DSP</td>\n",
       "      <td>Telkom Corporate University</td>\n",
       "      <td>Internal</td>\n",
       "      <td>Public</td>\n",
       "      <td>...</td>\n",
       "      <td>0</td>\n",
       "      <td>1</td>\n",
       "      <td>100.0</td>\n",
       "      <td>100.0</td>\n",
       "      <td>100.0</td>\n",
       "      <td>100.0</td>\n",
       "      <td>Satisfaction Tinggi</td>\n",
       "      <td>100.0</td>\n",
       "      <td>100.0</td>\n",
       "      <td>CES Tinggi</td>\n",
       "    </tr>\n",
       "    <tr>\n",
       "      <th>2</th>\n",
       "      <td>Certified Product Manager</td>\n",
       "      <td>80113434</td>\n",
       "      <td>LAT</td>\n",
       "      <td>Test Online</td>\n",
       "      <td>Makassar</td>\n",
       "      <td>Learning Area 7 Makassar</td>\n",
       "      <td>DSP</td>\n",
       "      <td>Online (Lokasi Masing-Masing)</td>\n",
       "      <td>Internal</td>\n",
       "      <td>Public</td>\n",
       "      <td>...</td>\n",
       "      <td>1</td>\n",
       "      <td>1</td>\n",
       "      <td>100.0</td>\n",
       "      <td>100.0</td>\n",
       "      <td>100.0</td>\n",
       "      <td>100.0</td>\n",
       "      <td>Satisfaction Tinggi</td>\n",
       "      <td>100.0</td>\n",
       "      <td>100.0</td>\n",
       "      <td>CES Tinggi</td>\n",
       "    </tr>\n",
       "    <tr>\n",
       "      <th>3</th>\n",
       "      <td>Sequence Models</td>\n",
       "      <td>80113230</td>\n",
       "      <td>LAT</td>\n",
       "      <td>Seminar</td>\n",
       "      <td>Makassar</td>\n",
       "      <td>Learning Area 7 Makassar</td>\n",
       "      <td>DSP</td>\n",
       "      <td>Online (Lokasi Masing-Masing)</td>\n",
       "      <td>Internal</td>\n",
       "      <td>Public</td>\n",
       "      <td>...</td>\n",
       "      <td>1</td>\n",
       "      <td>1</td>\n",
       "      <td>100.0</td>\n",
       "      <td>100.0</td>\n",
       "      <td>100.0</td>\n",
       "      <td>100.0</td>\n",
       "      <td>Satisfaction Tinggi</td>\n",
       "      <td>100.0</td>\n",
       "      <td>100.0</td>\n",
       "      <td>CES Tinggi</td>\n",
       "    </tr>\n",
       "    <tr>\n",
       "      <th>4</th>\n",
       "      <td>Go From Zero to Hero in Python 3</td>\n",
       "      <td>80112311</td>\n",
       "      <td>LAT</td>\n",
       "      <td>Test Online</td>\n",
       "      <td>Bandung</td>\n",
       "      <td>Learning Area 3 / LO</td>\n",
       "      <td>DSP</td>\n",
       "      <td>Online (Lokasi Masing-Masing)</td>\n",
       "      <td>External</td>\n",
       "      <td>Public</td>\n",
       "      <td>...</td>\n",
       "      <td>0</td>\n",
       "      <td>1</td>\n",
       "      <td>100.0</td>\n",
       "      <td>100.0</td>\n",
       "      <td>100.0</td>\n",
       "      <td>100.0</td>\n",
       "      <td>Satisfaction Tinggi</td>\n",
       "      <td>100.0</td>\n",
       "      <td>100.0</td>\n",
       "      <td>CES Tinggi</td>\n",
       "    </tr>\n",
       "    <tr>\n",
       "      <th>5</th>\n",
       "      <td>The Complete Node.js Developer Course</td>\n",
       "      <td>80112312</td>\n",
       "      <td>LAT</td>\n",
       "      <td>Test Online</td>\n",
       "      <td>Bandung</td>\n",
       "      <td>Learning Area 3 / LO</td>\n",
       "      <td>DSP</td>\n",
       "      <td>Online (Lokasi Masing-Masing)</td>\n",
       "      <td>External</td>\n",
       "      <td>Public</td>\n",
       "      <td>...</td>\n",
       "      <td>1</td>\n",
       "      <td>1</td>\n",
       "      <td>100.0</td>\n",
       "      <td>100.0</td>\n",
       "      <td>100.0</td>\n",
       "      <td>100.0</td>\n",
       "      <td>Satisfaction Tinggi</td>\n",
       "      <td>100.0</td>\n",
       "      <td>100.0</td>\n",
       "      <td>CES Tinggi</td>\n",
       "    </tr>\n",
       "    <tr>\n",
       "      <th>6</th>\n",
       "      <td>Node.js API Masterclass Express MongoDB</td>\n",
       "      <td>80112313</td>\n",
       "      <td>LAT</td>\n",
       "      <td>Test Online</td>\n",
       "      <td>Bandung</td>\n",
       "      <td>Learning Area 3 / LO</td>\n",
       "      <td>DSP</td>\n",
       "      <td>Online (Lokasi Masing-Masing)</td>\n",
       "      <td>External</td>\n",
       "      <td>Public</td>\n",
       "      <td>...</td>\n",
       "      <td>1</td>\n",
       "      <td>1</td>\n",
       "      <td>100.0</td>\n",
       "      <td>100.0</td>\n",
       "      <td>100.0</td>\n",
       "      <td>100.0</td>\n",
       "      <td>Satisfaction Tinggi</td>\n",
       "      <td>100.0</td>\n",
       "      <td>100.0</td>\n",
       "      <td>CES Tinggi</td>\n",
       "    </tr>\n",
       "    <tr>\n",
       "      <th>7</th>\n",
       "      <td>Galera Cluster and MariaDB MySQL Replica</td>\n",
       "      <td>80112389</td>\n",
       "      <td>LAT</td>\n",
       "      <td>Test Online</td>\n",
       "      <td>Bandung</td>\n",
       "      <td>Learning Area 3 / LO</td>\n",
       "      <td>DSP</td>\n",
       "      <td>Online (Lokasi Masing-Masing)</td>\n",
       "      <td>External</td>\n",
       "      <td>Public</td>\n",
       "      <td>...</td>\n",
       "      <td>0</td>\n",
       "      <td>1</td>\n",
       "      <td>100.0</td>\n",
       "      <td>100.0</td>\n",
       "      <td>100.0</td>\n",
       "      <td>100.0</td>\n",
       "      <td>Satisfaction Tinggi</td>\n",
       "      <td>100.0</td>\n",
       "      <td>100.0</td>\n",
       "      <td>CES Tinggi</td>\n",
       "    </tr>\n",
       "    <tr>\n",
       "      <th>8</th>\n",
       "      <td>Node with React: Fullstack Web Dev</td>\n",
       "      <td>80112394</td>\n",
       "      <td>LAT</td>\n",
       "      <td>Test Online</td>\n",
       "      <td>Bandung</td>\n",
       "      <td>Learning Area 3 / LO</td>\n",
       "      <td>DSP</td>\n",
       "      <td>Online (Lokasi Masing-Masing)</td>\n",
       "      <td>External</td>\n",
       "      <td>Public</td>\n",
       "      <td>...</td>\n",
       "      <td>1</td>\n",
       "      <td>1</td>\n",
       "      <td>100.0</td>\n",
       "      <td>100.0</td>\n",
       "      <td>100.0</td>\n",
       "      <td>100.0</td>\n",
       "      <td>Satisfaction Tinggi</td>\n",
       "      <td>100.0</td>\n",
       "      <td>100.0</td>\n",
       "      <td>CES Tinggi</td>\n",
       "    </tr>\n",
       "    <tr>\n",
       "      <th>9</th>\n",
       "      <td>Learn Perl 5 By Doing It</td>\n",
       "      <td>80112395</td>\n",
       "      <td>LAT</td>\n",
       "      <td>Test Online</td>\n",
       "      <td>Bandung</td>\n",
       "      <td>Learning Area 3 / LO</td>\n",
       "      <td>DSP</td>\n",
       "      <td>Online (Lokasi Masing-Masing)</td>\n",
       "      <td>External</td>\n",
       "      <td>Public</td>\n",
       "      <td>...</td>\n",
       "      <td>1</td>\n",
       "      <td>1</td>\n",
       "      <td>100.0</td>\n",
       "      <td>100.0</td>\n",
       "      <td>100.0</td>\n",
       "      <td>100.0</td>\n",
       "      <td>Satisfaction Tinggi</td>\n",
       "      <td>100.0</td>\n",
       "      <td>100.0</td>\n",
       "      <td>CES Tinggi</td>\n",
       "    </tr>\n",
       "  </tbody>\n",
       "</table>\n",
       "<p>10 rows × 26 columns</p>\n",
       "</div>"
      ],
      "text/plain": [
       "                             Nama Pelatihan  Objid Pelatihan Category  \\\n",
       "0  Exam AWS Cloud Practitioner Essentials 1         80114054      LAT   \n",
       "1  Exam AWS Cloud Practitioner Essentials 3         80114058      LAT   \n",
       "2                 Certified Product Manager         80113434      LAT   \n",
       "3                           Sequence Models         80113230      LAT   \n",
       "4          Go From Zero to Hero in Python 3         80112311      LAT   \n",
       "5     The Complete Node.js Developer Course         80112312      LAT   \n",
       "6   Node.js API Masterclass Express MongoDB         80112313      LAT   \n",
       "7  Galera Cluster and MariaDB MySQL Replica         80112389      LAT   \n",
       "8        Node with React: Fullstack Web Dev         80112394      LAT   \n",
       "9                  Learn Perl 5 By Doing It         80112395      LAT   \n",
       "\n",
       "          Tipe Lokasi Pelatihan                      Provider Academy Event  \\\n",
       "0  Test Online          Bandung       Learning Area 3 Bandung           DSP   \n",
       "1  Test Online          Bandung  Learning Area 3 / LO Bandung           DSP   \n",
       "2  Test Online         Makassar      Learning Area 7 Makassar           DSP   \n",
       "3      Seminar         Makassar      Learning Area 7 Makassar           DSP   \n",
       "4  Test Online          Bandung          Learning Area 3 / LO           DSP   \n",
       "5  Test Online          Bandung          Learning Area 3 / LO           DSP   \n",
       "6  Test Online          Bandung          Learning Area 3 / LO           DSP   \n",
       "7  Test Online          Bandung          Learning Area 3 / LO           DSP   \n",
       "8  Test Online          Bandung          Learning Area 3 / LO           DSP   \n",
       "9  Test Online          Bandung          Learning Area 3 / LO           DSP   \n",
       "\n",
       "                        Location Provider Category Event Type  ...  \\\n",
       "0    Telkom Corporate University          Internal     Public  ...   \n",
       "1    Telkom Corporate University          Internal     Public  ...   \n",
       "2  Online (Lokasi Masing-Masing)          Internal     Public  ...   \n",
       "3  Online (Lokasi Masing-Masing)          Internal     Public  ...   \n",
       "4  Online (Lokasi Masing-Masing)          External     Public  ...   \n",
       "5  Online (Lokasi Masing-Masing)          External     Public  ...   \n",
       "6  Online (Lokasi Masing-Masing)          External     Public  ...   \n",
       "7  Online (Lokasi Masing-Masing)          External     Public  ...   \n",
       "8  Online (Lokasi Masing-Masing)          External     Public  ...   \n",
       "9  Online (Lokasi Masing-Masing)          External     Public  ...   \n",
       "\n",
       "  JML UBPP Inst JML UBPP Delivery UBPP Penyelenggaraan  UBPP Materi  \\\n",
       "0             0                 1                100.0        100.0   \n",
       "1             0                 1                100.0        100.0   \n",
       "2             1                 1                100.0        100.0   \n",
       "3             1                 1                100.0        100.0   \n",
       "4             0                 1                100.0        100.0   \n",
       "5             1                 1                100.0        100.0   \n",
       "6             1                 1                100.0        100.0   \n",
       "7             0                 1                100.0        100.0   \n",
       "8             1                 1                100.0        100.0   \n",
       "9             1                 1                100.0        100.0   \n",
       "\n",
       "   Net Promotor Score  Customer Satisfaction  Customer Satisfaction Category  \\\n",
       "0               100.0                  100.0             Satisfaction Tinggi   \n",
       "1               100.0                  100.0             Satisfaction Tinggi   \n",
       "2               100.0                  100.0             Satisfaction Tinggi   \n",
       "3               100.0                  100.0             Satisfaction Tinggi   \n",
       "4               100.0                  100.0             Satisfaction Tinggi   \n",
       "5               100.0                  100.0             Satisfaction Tinggi   \n",
       "6               100.0                  100.0             Satisfaction Tinggi   \n",
       "7               100.0                  100.0             Satisfaction Tinggi   \n",
       "8               100.0                  100.0             Satisfaction Tinggi   \n",
       "9               100.0                  100.0             Satisfaction Tinggi   \n",
       "\n",
       "   First Response & Average Handling  Customer Effort Score  \\\n",
       "0                              100.0                  100.0   \n",
       "1                              100.0                  100.0   \n",
       "2                              100.0                  100.0   \n",
       "3                              100.0                  100.0   \n",
       "4                              100.0                  100.0   \n",
       "5                              100.0                  100.0   \n",
       "6                              100.0                  100.0   \n",
       "7                              100.0                  100.0   \n",
       "8                              100.0                  100.0   \n",
       "9                              100.0                  100.0   \n",
       "\n",
       "   Customer Effort Score Category  \n",
       "0                      CES Tinggi  \n",
       "1                      CES Tinggi  \n",
       "2                      CES Tinggi  \n",
       "3                      CES Tinggi  \n",
       "4                      CES Tinggi  \n",
       "5                      CES Tinggi  \n",
       "6                      CES Tinggi  \n",
       "7                      CES Tinggi  \n",
       "8                      CES Tinggi  \n",
       "9                      CES Tinggi  \n",
       "\n",
       "[10 rows x 26 columns]"
      ]
     },
     "execution_count": 12,
     "metadata": {},
     "output_type": "execute_result"
    }
   ],
   "source": [
    "feedback_Lat.head(10)"
   ]
  },
  {
   "cell_type": "code",
   "execution_count": 13,
   "metadata": {},
   "outputs": [],
   "source": [
    "feedback_Lat['Tgl Mulai'] = pd.to_datetime(feedback_Lat['Tgl Mulai'])"
   ]
  },
  {
   "cell_type": "code",
   "execution_count": 14,
   "metadata": {},
   "outputs": [],
   "source": [
    "feedback_Lat['Bulan'] = feedback_Lat['Tgl Mulai'].dt.month"
   ]
  },
  {
   "cell_type": "code",
   "execution_count": 15,
   "metadata": {},
   "outputs": [
    {
     "data": {
      "text/html": [
       "<div>\n",
       "<style scoped>\n",
       "    .dataframe tbody tr th:only-of-type {\n",
       "        vertical-align: middle;\n",
       "    }\n",
       "\n",
       "    .dataframe tbody tr th {\n",
       "        vertical-align: top;\n",
       "    }\n",
       "\n",
       "    .dataframe thead th {\n",
       "        text-align: right;\n",
       "    }\n",
       "</style>\n",
       "<table border=\"1\" class=\"dataframe\">\n",
       "  <thead>\n",
       "    <tr style=\"text-align: right;\">\n",
       "      <th></th>\n",
       "      <th>Customer Satisfaction Category</th>\n",
       "      <th>First Response &amp; Average Handling</th>\n",
       "      <th>Customer Effort Score</th>\n",
       "      <th>Customer Effort Score Category</th>\n",
       "      <th>Bulan</th>\n",
       "    </tr>\n",
       "  </thead>\n",
       "  <tbody>\n",
       "    <tr>\n",
       "      <th>0</th>\n",
       "      <td>Satisfaction Tinggi</td>\n",
       "      <td>100.00</td>\n",
       "      <td>100.0</td>\n",
       "      <td>CES Tinggi</td>\n",
       "      <td>12</td>\n",
       "    </tr>\n",
       "    <tr>\n",
       "      <th>1</th>\n",
       "      <td>Satisfaction Tinggi</td>\n",
       "      <td>100.00</td>\n",
       "      <td>100.0</td>\n",
       "      <td>CES Tinggi</td>\n",
       "      <td>11</td>\n",
       "    </tr>\n",
       "    <tr>\n",
       "      <th>2</th>\n",
       "      <td>Satisfaction Tinggi</td>\n",
       "      <td>100.00</td>\n",
       "      <td>100.0</td>\n",
       "      <td>CES Tinggi</td>\n",
       "      <td>9</td>\n",
       "    </tr>\n",
       "    <tr>\n",
       "      <th>3</th>\n",
       "      <td>Satisfaction Tinggi</td>\n",
       "      <td>100.00</td>\n",
       "      <td>100.0</td>\n",
       "      <td>CES Tinggi</td>\n",
       "      <td>8</td>\n",
       "    </tr>\n",
       "    <tr>\n",
       "      <th>4</th>\n",
       "      <td>Satisfaction Tinggi</td>\n",
       "      <td>100.00</td>\n",
       "      <td>100.0</td>\n",
       "      <td>CES Tinggi</td>\n",
       "      <td>4</td>\n",
       "    </tr>\n",
       "    <tr>\n",
       "      <th>...</th>\n",
       "      <td>...</td>\n",
       "      <td>...</td>\n",
       "      <td>...</td>\n",
       "      <td>...</td>\n",
       "      <td>...</td>\n",
       "    </tr>\n",
       "    <tr>\n",
       "      <th>930</th>\n",
       "      <td>Satisfaction Rendah</td>\n",
       "      <td>76.67</td>\n",
       "      <td>65.0</td>\n",
       "      <td>CES rendah</td>\n",
       "      <td>10</td>\n",
       "    </tr>\n",
       "    <tr>\n",
       "      <th>931</th>\n",
       "      <td>Satisfaction Rendah</td>\n",
       "      <td>70.00</td>\n",
       "      <td>48.0</td>\n",
       "      <td>CES rendah</td>\n",
       "      <td>10</td>\n",
       "    </tr>\n",
       "    <tr>\n",
       "      <th>932</th>\n",
       "      <td>Satisfaction Rendah</td>\n",
       "      <td>40.00</td>\n",
       "      <td>40.0</td>\n",
       "      <td>CES rendah</td>\n",
       "      <td>8</td>\n",
       "    </tr>\n",
       "    <tr>\n",
       "      <th>933</th>\n",
       "      <td>Satisfaction Rendah</td>\n",
       "      <td>50.00</td>\n",
       "      <td>38.0</td>\n",
       "      <td>CES rendah</td>\n",
       "      <td>8</td>\n",
       "    </tr>\n",
       "    <tr>\n",
       "      <th>934</th>\n",
       "      <td>Satisfaction Rendah</td>\n",
       "      <td>50.00</td>\n",
       "      <td>32.0</td>\n",
       "      <td>CES rendah</td>\n",
       "      <td>8</td>\n",
       "    </tr>\n",
       "  </tbody>\n",
       "</table>\n",
       "<p>935 rows × 5 columns</p>\n",
       "</div>"
      ],
      "text/plain": [
       "    Customer Satisfaction Category  First Response & Average Handling  \\\n",
       "0              Satisfaction Tinggi                             100.00   \n",
       "1              Satisfaction Tinggi                             100.00   \n",
       "2              Satisfaction Tinggi                             100.00   \n",
       "3              Satisfaction Tinggi                             100.00   \n",
       "4              Satisfaction Tinggi                             100.00   \n",
       "..                             ...                                ...   \n",
       "930            Satisfaction Rendah                              76.67   \n",
       "931            Satisfaction Rendah                              70.00   \n",
       "932            Satisfaction Rendah                              40.00   \n",
       "933            Satisfaction Rendah                              50.00   \n",
       "934            Satisfaction Rendah                              50.00   \n",
       "\n",
       "     Customer Effort Score Customer Effort Score Category  Bulan  \n",
       "0                    100.0                     CES Tinggi     12  \n",
       "1                    100.0                     CES Tinggi     11  \n",
       "2                    100.0                     CES Tinggi      9  \n",
       "3                    100.0                     CES Tinggi      8  \n",
       "4                    100.0                     CES Tinggi      4  \n",
       "..                     ...                            ...    ...  \n",
       "930                   65.0                     CES rendah     10  \n",
       "931                   48.0                     CES rendah     10  \n",
       "932                   40.0                     CES rendah      8  \n",
       "933                   38.0                     CES rendah      8  \n",
       "934                   32.0                     CES rendah      8  \n",
       "\n",
       "[935 rows x 5 columns]"
      ]
     },
     "execution_count": 15,
     "metadata": {},
     "output_type": "execute_result"
    }
   ],
   "source": [
    "df_data = pd.DataFrame(feedback_Lat)\n",
    "df_data.drop(['Nama Pelatihan', 'Objid Pelatihan', 'Category', 'Tipe', 'Lokasi Pelatihan', 'Provider', 'Academy Event', 'Location', 'Provider Category', 'Event Type', 'Status', 'Tgl Mulai', 'Tgl Selesai', 'JML Peserta', 'JML Confirmed', 'JML Peserta Hadir', 'JML UBPP Inst', 'JML UBPP Delivery', 'UBPP Penyelenggaraan', 'UBPP Materi', 'Net Promotor Score', 'Customer Satisfaction'], axis=1, inplace=True)\n",
    "df_data.dropna(inplace=True)\n",
    "df_data"
   ]
  },
  {
   "cell_type": "code",
   "execution_count": 16,
   "metadata": {},
   "outputs": [
    {
     "name": "stdout",
     "output_type": "stream",
     "text": [
      "<class 'pandas.core.frame.DataFrame'>\n",
      "Int64Index: 935 entries, 0 to 934\n",
      "Data columns (total 5 columns):\n",
      " #   Column                             Non-Null Count  Dtype  \n",
      "---  ------                             --------------  -----  \n",
      " 0   Customer Satisfaction Category     935 non-null    object \n",
      " 1   First Response & Average Handling  935 non-null    float64\n",
      " 2   Customer Effort Score              935 non-null    float64\n",
      " 3   Customer Effort Score Category     935 non-null    object \n",
      " 4   Bulan                              935 non-null    int64  \n",
      "dtypes: float64(2), int64(1), object(2)\n",
      "memory usage: 43.8+ KB\n"
     ]
    }
   ],
   "source": [
    "df_data.info()"
   ]
  },
  {
   "cell_type": "markdown",
   "metadata": {},
   "source": [
    "# Logistic Regression"
   ]
  },
  {
   "cell_type": "code",
   "execution_count": 17,
   "metadata": {},
   "outputs": [],
   "source": [
    "# Prediksi Category Customer Effort Score berdasarkan First Response & Average Handling\n",
    "# data_x = First Response & Average Handling\n",
    "# data_y = Category Customer Effort Score"
   ]
  },
  {
   "cell_type": "code",
   "execution_count": 18,
   "metadata": {},
   "outputs": [],
   "source": [
    "import matplotlib.pyplot as plt\n",
    "import numpy as np\n",
    "\n",
    "from sklearn.linear_model import LogisticRegression\n",
    "from sklearn.model_selection import train_test_split\n",
    "from sklearn.metrics import classification_report, confusion_matrix\n",
    "from sklearn.datasets import load_digits\n",
    "from sklearn.preprocessing import StandardScaler\n",
    "from sklearn import metrics"
   ]
  },
  {
   "cell_type": "code",
   "execution_count": 19,
   "metadata": {},
   "outputs": [
    {
     "data": {
      "text/plain": [
       "['Customer Satisfaction Category',\n",
       " 'First Response & Average Handling',\n",
       " 'Customer Effort Score',\n",
       " 'Customer Effort Score Category',\n",
       " 'Bulan']"
      ]
     },
     "execution_count": 19,
     "metadata": {},
     "output_type": "execute_result"
    }
   ],
   "source": [
    "list(df_data.columns)"
   ]
  },
  {
   "cell_type": "code",
   "execution_count": 20,
   "metadata": {},
   "outputs": [],
   "source": [
    "# Split data\n",
    "x_train, x_test, y_train, y_test = train_test_split(df_data[['First Response & Average Handling']], df_data[['Customer Effort Score Category']], test_size=0.2, random_state=0)"
   ]
  },
  {
   "cell_type": "code",
   "execution_count": 21,
   "metadata": {},
   "outputs": [
    {
     "data": {
      "text/plain": [
       "((748, 1), (187, 1), (748, 1), (187, 1))"
      ]
     },
     "execution_count": 21,
     "metadata": {},
     "output_type": "execute_result"
    }
   ],
   "source": [
    "(x_train.shape, x_test.shape, y_train.shape, y_test.shape)"
   ]
  },
  {
   "cell_type": "code",
   "execution_count": 22,
   "metadata": {},
   "outputs": [],
   "source": [
    "scaler = StandardScaler()\n",
    "x_train = scaler.fit_transform(x_train)"
   ]
  },
  {
   "cell_type": "code",
   "execution_count": 23,
   "metadata": {},
   "outputs": [
    {
     "data": {
      "text/plain": [
       "(748, 1)"
      ]
     },
     "execution_count": 23,
     "metadata": {},
     "output_type": "execute_result"
    }
   ],
   "source": [
    "x_train.shape"
   ]
  },
  {
   "cell_type": "code",
   "execution_count": 24,
   "metadata": {},
   "outputs": [
    {
     "name": "stderr",
     "output_type": "stream",
     "text": [
      "/Users/sadida/opt/anaconda3/lib/python3.8/site-packages/sklearn/utils/validation.py:73: DataConversionWarning: A column-vector y was passed when a 1d array was expected. Please change the shape of y to (n_samples, ), for example using ravel().\n",
      "  return f(**kwargs)\n"
     ]
    },
    {
     "data": {
      "text/plain": [
       "LogisticRegression(random_state=0, solver='liblinear')"
      ]
     },
     "execution_count": 24,
     "metadata": {},
     "output_type": "execute_result"
    }
   ],
   "source": [
    "model = LogisticRegression(solver='liblinear', random_state=0)\n",
    "model.fit(x_train, y_train)"
   ]
  },
  {
   "cell_type": "code",
   "execution_count": 25,
   "metadata": {},
   "outputs": [
    {
     "data": {
      "text/plain": [
       "array(['CES Tinggi', 'CES rendah'], dtype=object)"
      ]
     },
     "execution_count": 25,
     "metadata": {},
     "output_type": "execute_result"
    }
   ],
   "source": [
    "model.classes_"
   ]
  },
  {
   "cell_type": "code",
   "execution_count": 26,
   "metadata": {},
   "outputs": [],
   "source": [
    "x_test = scaler.transform(x_test)"
   ]
  },
  {
   "cell_type": "code",
   "execution_count": 27,
   "metadata": {},
   "outputs": [
    {
     "data": {
      "text/plain": [
       "array([[0.49954294, 0.50045706],\n",
       "       [0.90631761, 0.09368239],\n",
       "       [0.00340161, 0.99659839],\n",
       "       ...,\n",
       "       [0.97110914, 0.02889086],\n",
       "       [0.19444288, 0.80555712],\n",
       "       [0.60309163, 0.39690837]])"
      ]
     },
     "execution_count": 27,
     "metadata": {},
     "output_type": "execute_result"
    }
   ],
   "source": [
    "model.predict_proba(x_train)"
   ]
  },
  {
   "cell_type": "code",
   "execution_count": 28,
   "metadata": {},
   "outputs": [],
   "source": [
    "y_pred = model.predict(x_test)"
   ]
  },
  {
   "cell_type": "code",
   "execution_count": 29,
   "metadata": {},
   "outputs": [
    {
     "data": {
      "text/plain": [
       "0.8636363636363636"
      ]
     },
     "execution_count": 29,
     "metadata": {},
     "output_type": "execute_result"
    }
   ],
   "source": [
    "# akurasi data train\n",
    "model.score(x_train, y_train)"
   ]
  },
  {
   "cell_type": "code",
   "execution_count": 30,
   "metadata": {},
   "outputs": [
    {
     "data": {
      "text/plain": [
       "0.8556149732620321"
      ]
     },
     "execution_count": 30,
     "metadata": {},
     "output_type": "execute_result"
    }
   ],
   "source": [
    "# akurasi data test\n",
    "metrics.accuracy_score(y_pred, y_test)"
   ]
  },
  {
   "cell_type": "code",
   "execution_count": 31,
   "metadata": {},
   "outputs": [
    {
     "data": {
      "text/plain": [
       "array([[127,   8],\n",
       "       [ 19,  33]])"
      ]
     },
     "execution_count": 31,
     "metadata": {},
     "output_type": "execute_result"
    }
   ],
   "source": [
    "confusion_matrix(y_test, y_pred)"
   ]
  },
  {
   "cell_type": "code",
   "execution_count": 32,
   "metadata": {},
   "outputs": [
    {
     "data": {
      "image/png": "[encoded data removed]",
      "text/plain": [
       "<Figure size 576x576 with 1 Axes>"
      ]
     },
     "metadata": {
      "needs_background": "light"
     },
     "output_type": "display_data"
    }
   ],
   "source": [
    "cm = confusion_matrix(y_test, y_pred)\n",
    "\n",
    "fig, ax = plt.subplots(figsize=(8, 8))\n",
    "ax.imshow(cm)\n",
    "ax.grid(False)\n",
    "ax.xaxis.set(ticks=(0, 1), ticklabels=('Predicted CES Tinggi', 'Predicted CES Rendah'))\n",
    "ax.yaxis.set(ticks=(0, 1), ticklabels=('Actual CES Tinggi', 'Actual CES Rendah'))\n",
    "ax.set_ylim(1.5, -0.5)\n",
    "for i in range(2):\n",
    "    for j in range(2):\n",
    "        ax.text(j, i, cm[i, j], ha='center', va='center', color='red')\n",
    "plt.show()"
   ]
  },
  {
   "cell_type": "markdown",
   "metadata": {},
   "source": [
    "# KNN"
   ]
  },
  {
   "cell_type": "code",
   "execution_count": 33,
   "metadata": {},
   "outputs": [],
   "source": [
    "# Prediksi Category Customer Effort Score berdasarkan First Response & Average Handling\n",
    "# data_x = First Response & Average Handling\n",
    "# data_y = Category Customer Effort Score"
   ]
  },
  {
   "cell_type": "code",
   "execution_count": 34,
   "metadata": {},
   "outputs": [],
   "source": [
    "from sklearn.model_selection import train_test_split\n",
    "from sklearn.neighbors import KNeighborsClassifier"
   ]
  },
  {
   "cell_type": "code",
   "execution_count": 35,
   "metadata": {},
   "outputs": [
    {
     "data": {
      "text/plain": [
       "((935, 1), (935, 1))"
      ]
     },
     "execution_count": 35,
     "metadata": {},
     "output_type": "execute_result"
    }
   ],
   "source": [
    "(df_data[['First Response & Average Handling']].shape, df_data[['Customer Effort Score Category']].shape)"
   ]
  },
  {
   "cell_type": "code",
   "execution_count": 36,
   "metadata": {},
   "outputs": [],
   "source": [
    "#Split Data\n",
    "knn_x_train, knn_x_test, knn_y_train, knn_y_test = train_test_split(df_data[['First Response & Average Handling']], df_data['Customer Effort Score Category'], test_size=0.2, random_state=0)"
   ]
  },
  {
   "cell_type": "code",
   "execution_count": 37,
   "metadata": {},
   "outputs": [
    {
     "data": {
      "text/plain": [
       "((748, 1), (187, 1), (748,), (187,))"
      ]
     },
     "execution_count": 37,
     "metadata": {},
     "output_type": "execute_result"
    }
   ],
   "source": [
    "(knn_x_train.shape, knn_x_test.shape, knn_y_train.shape, knn_y_test.shape)"
   ]
  },
  {
   "cell_type": "code",
   "execution_count": 38,
   "metadata": {},
   "outputs": [],
   "source": [
    "#Create KNN Classifier\n",
    "knn = KNeighborsClassifier(n_neighbors=5)\n",
    "\n",
    "#Train the model using the training sets\n",
    "knn.fit(knn_x_train, knn_y_train)\n",
    "\n",
    "#Predict the response for test dataset\n",
    "y_pred_knn = knn.predict(knn_x_test)"
   ]
  },
  {
   "cell_type": "code",
   "execution_count": 39,
   "metadata": {},
   "outputs": [
    {
     "data": {
      "text/plain": [
       "0.8235294117647058"
      ]
     },
     "execution_count": 39,
     "metadata": {},
     "output_type": "execute_result"
    }
   ],
   "source": [
    "# Akurasi Model\n",
    "metrics.accuracy_score(y_pred_knn, knn_y_test)"
   ]
  },
  {
   "cell_type": "markdown",
   "metadata": {},
   "source": [
    "# SVM"
   ]
  },
  {
   "cell_type": "code",
   "execution_count": 40,
   "metadata": {},
   "outputs": [],
   "source": [
    "from sklearn import model_selection, svm\n",
    "from sklearn.metrics import accuracy_score"
   ]
  },
  {
   "cell_type": "code",
   "execution_count": 41,
   "metadata": {},
   "outputs": [
    {
     "data": {
      "text/plain": [
       "((935, 1), (935, 1))"
      ]
     },
     "execution_count": 41,
     "metadata": {},
     "output_type": "execute_result"
    }
   ],
   "source": [
    "(df_data[['First Response & Average Handling']].shape, df_data[['Customer Effort Score Category']].shape)"
   ]
  },
  {
   "cell_type": "code",
   "execution_count": 42,
   "metadata": {},
   "outputs": [],
   "source": [
    "x_train_svm, x_test_svm, y_train_svm, y_test_svm = train_test_split(df_data[['First Response & Average Handling']], df_data['Customer Effort Score Category'], test_size=0.2, random_state=0)"
   ]
  },
  {
   "cell_type": "code",
   "execution_count": 43,
   "metadata": {},
   "outputs": [],
   "source": [
    "#Create a svm Classifier\n",
    "clf = svm.SVC(kernel='linear') # Linear Kernel\n",
    "\n",
    "#Train the model using the training sets\n",
    "clf.fit(x_train_svm, y_train_svm) \n",
    "\n",
    "#Predict the response for test dataset\n",
    "y_pred_svm = clf.predict(x_test_svm)"
   ]
  },
  {
   "cell_type": "code",
   "execution_count": 44,
   "metadata": {},
   "outputs": [
    {
     "name": "stdout",
     "output_type": "stream",
     "text": [
      "Accuracy: 0.8556149732620321\n"
     ]
    }
   ],
   "source": [
    "# Model Accuracy: how often is the classifier correct?\n",
    "print(\"Accuracy:\", accuracy_score(y_test_svm, y_pred_svm))"
   ]
  },
  {
   "cell_type": "markdown",
   "metadata": {},
   "source": [
    "# Decision Tree"
   ]
  },
  {
   "cell_type": "code",
   "execution_count": 45,
   "metadata": {},
   "outputs": [],
   "source": [
    "from sklearn.tree import DecisionTreeClassifier"
   ]
  },
  {
   "cell_type": "code",
   "execution_count": 46,
   "metadata": {},
   "outputs": [],
   "source": [
    "x_train_dt, x_test_dt, y_train_dt, y_test_dt = train_test_split(df_data[['First Response & Average Handling']], df_data['Customer Effort Score Category'], test_size=0.2, random_state=0)"
   ]
  },
  {
   "cell_type": "code",
   "execution_count": 47,
   "metadata": {},
   "outputs": [],
   "source": [
    "# Create Decision Tree classifer object\n",
    "dct = DecisionTreeClassifier()\n",
    "\n",
    "# Train Decision Tree Classifer\n",
    "dct = dct.fit(x_train_dt,y_train_dt)\n",
    "\n",
    "#Predict the response for test dataset\n",
    "y_pred = dct.predict(x_test_dt)"
   ]
  },
  {
   "cell_type": "code",
   "execution_count": 48,
   "metadata": {},
   "outputs": [
    {
     "name": "stdout",
     "output_type": "stream",
     "text": [
      "Accuracy: 0.8235294117647058\n"
     ]
    }
   ],
   "source": [
    "# Model Accuracy, how often is the classifier correct?\n",
    "print(\"Accuracy:\",metrics.accuracy_score(y_test, y_pred))"
   ]
  },
  {
   "cell_type": "markdown",
   "metadata": {},
   "source": [
    "# Random Forest"
   ]
  },
  {
   "cell_type": "code",
   "execution_count": 49,
   "metadata": {},
   "outputs": [],
   "source": [
    "x_train_rf, x_test_rf, y_train_rf, y_test_rf = train_test_split(df_data[['First Response & Average Handling']], df_data['Customer Effort Score Category'], test_size=0.2, random_state=0)"
   ]
  },
  {
   "cell_type": "code",
   "execution_count": 50,
   "metadata": {},
   "outputs": [],
   "source": [
    "#Import Random Forest Model\n",
    "from sklearn.ensemble import RandomForestClassifier\n",
    " \n",
    "#Create a Gaussian Classifier\n",
    "rfc=RandomForestClassifier(n_estimators=100)\n",
    " \n",
    "#Train the model using the training sets y_pred=clf.predict(X_test)\n",
    "rfc.fit(x_train_rf, y_train_rf) \n",
    "\n",
    "y_pred_rfc=rfc.predict(x_test_rf)"
   ]
  },
  {
   "cell_type": "code",
   "execution_count": 51,
   "metadata": {},
   "outputs": [
    {
     "name": "stdout",
     "output_type": "stream",
     "text": [
      "Accuracy Random Forest: 0.8288770053475936\n"
     ]
    }
   ],
   "source": [
    "print(\"Accuracy Random Forest:\",metrics.accuracy_score(y_test_rf, y_pred_rfc))"
   ]
  },
  {
   "cell_type": "markdown",
   "metadata": {},
   "source": [
    "# Naive Bayes"
   ]
  },
  {
   "cell_type": "code",
   "execution_count": 52,
   "metadata": {},
   "outputs": [],
   "source": [
    "x_train_nbc, x_test_nbc, y_train_nbc, y_test_nbc = train_test_split(df_data[['First Response & Average Handling']], df_data['Customer Effort Score Category'], test_size=0.2, random_state=0)"
   ]
  },
  {
   "cell_type": "code",
   "execution_count": 53,
   "metadata": {},
   "outputs": [
    {
     "data": {
      "text/plain": [
       "((748, 1), (187, 1), (748,), (187,))"
      ]
     },
     "execution_count": 53,
     "metadata": {},
     "output_type": "execute_result"
    }
   ],
   "source": [
    "(x_train_nbc.shape, x_test_nbc.shape, y_train_nbc.shape, y_test_nbc.shape)"
   ]
  },
  {
   "cell_type": "code",
   "execution_count": 54,
   "metadata": {},
   "outputs": [],
   "source": [
    "from sklearn.naive_bayes import GaussianNB \n",
    "nbc=GaussianNB()\n",
    "nbc.fit(x_train_nbc, y_train_nbc)\n",
    "(x_train_nbc.shape, y_train_nbc.shape)\n",
    "y_pred_nbc = nbc.predict(x_test_nbc)"
   ]
  },
  {
   "cell_type": "code",
   "execution_count": 55,
   "metadata": {},
   "outputs": [
    {
     "name": "stdout",
     "output_type": "stream",
     "text": [
      "     First Response & Average Handling\n",
      "386                              85.00\n",
      "624                              91.00\n",
      "892                              70.00\n",
      "85                               96.46\n",
      "812                              78.46\n",
      "..                                 ...\n",
      "835                              82.31\n",
      "192                              92.50\n",
      "629                              94.29\n",
      "559                              81.25\n",
      "684                              86.11\n",
      "\n",
      "[748 rows x 1 columns]\n"
     ]
    }
   ],
   "source": [
    "print(x_train_nbc)"
   ]
  },
  {
   "cell_type": "code",
   "execution_count": 56,
   "metadata": {},
   "outputs": [
    {
     "name": "stdout",
     "output_type": "stream",
     "text": [
      "Accuracy Naive Bayes: 0.8235294117647058\n"
     ]
    }
   ],
   "source": [
    "print(\"Accuracy Naive Bayes:\",metrics.accuracy_score(y_test_nbc, y_pred_nbc))"
   ]
  },
  {
   "cell_type": "markdown",
   "metadata": {},
   "source": [
    "# Confusion Matrix"
   ]
  },
  {
   "cell_type": "code",
   "execution_count": 57,
   "metadata": {},
   "outputs": [],
   "source": [
    "from sklearn.metrics import confusion_matrix"
   ]
  },
  {
   "cell_type": "code",
   "execution_count": 58,
   "metadata": {},
   "outputs": [],
   "source": [
    "x_train_nbc, x_test_nbc, y_train_nbc, y_test_nbc = train_test_split(df_data[['First Response & Average Handling']], df_data['Customer Effort Score Category'], test_size=0.2, random_state=0)"
   ]
  },
  {
   "cell_type": "code",
   "execution_count": 59,
   "metadata": {},
   "outputs": [
    {
     "data": {
      "text/plain": [
       "array([[129,   6],\n",
       "       [ 27,  25]])"
      ]
     },
     "execution_count": 59,
     "metadata": {},
     "output_type": "execute_result"
    }
   ],
   "source": [
    "cm = confusion_matrix(y_test_nbc, y_pred_nbc)\n",
    "cm"
   ]
  },
  {
   "cell_type": "markdown",
   "metadata": {},
   "source": [
    "# Visualization"
   ]
  },
  {
   "cell_type": "markdown",
   "metadata": {},
   "source": [
    "## Visualisasi Eror Rate dengan KNN"
   ]
  },
  {
   "cell_type": "code",
   "execution_count": 60,
   "metadata": {},
   "outputs": [
    {
     "data": {
      "text/plain": [
       "Text(0, 0.5, 'Error mean')"
      ]
     },
     "execution_count": 60,
     "metadata": {},
     "output_type": "execute_result"
    },
    {
     "data": {
      "image/png": "[encoded data removed]",
      "text/plain": [
       "<Figure size 864x432 with 1 Axes>"
      ]
     },
     "metadata": {
      "needs_background": "light"
     },
     "output_type": "display_data"
    }
   ],
   "source": [
    "error = []\n",
    "\n",
    "# Calculating error for K values between 1 and 40\n",
    "for i in range(1, 40):  \n",
    "    knn = KNeighborsClassifier(n_neighbors=i)\n",
    "    knn.fit(knn_x_train, knn_y_train)\n",
    "    pred_i = knn.predict(knn_x_test)\n",
    "    error.append(np.mean(pred_i != knn_y_test))\n",
    "    \n",
    "plt.figure(figsize=(12, 6))  \n",
    "plt.plot(range(1, 40), error, color='red', linestyle='dashed', marker='o',  \n",
    "         markerfacecolor='blue', markersize=10)\n",
    "plt.title('Error Rate K')  \n",
    "plt.xlabel('K')  \n",
    "plt.ylabel('Error mean')"
   ]
  },
  {
   "cell_type": "markdown",
   "metadata": {},
   "source": [
    "## Visualisasi Confusion Matrix dengan Algoritma Naive Bayes"
   ]
  },
  {
   "cell_type": "code",
   "execution_count": 61,
   "metadata": {},
   "outputs": [
    {
     "data": {
      "image/png": "[encoded data removed]",
      "text/plain": [
       "<Figure size 576x576 with 1 Axes>"
      ]
     },
     "metadata": {
      "needs_background": "light"
     },
     "output_type": "display_data"
    }
   ],
   "source": [
    "fig, ax = plt.subplots(figsize=(8, 8))\n",
    "ax.imshow(cm)\n",
    "ax.grid(False)\n",
    "ax.xaxis.set(ticks=(0, 1), ticklabels=('Predicted 0s', 'Predicted 1s'))\n",
    "ax.yaxis.set(ticks=(0, 1), ticklabels=('Actual 0s', 'Actual 1s'))\n",
    "ax.set_ylim(1.5, -0.5)\n",
    "for i in range(2):\n",
    "    for j in range(2):\n",
    "        ax.text(j, i, cm[i, j], ha='center', va='center', color='red')\n",
    "plt.show()"
   ]
  },
  {
   "cell_type": "code",
   "execution_count": null,
   "metadata": {},
   "outputs": [],
   "source": []
  }
 ],
 "metadata": {
  "kernelspec": {
   "display_name": "Python 3",
   "language": "python",
   "name": "python3"
  },
  "language_info": {
   "codemirror_mode": {
    "name": "ipython",
    "version": 3
   },
   "file_extension": ".py",
   "mimetype": "text/x-python",
   "name": "python",
   "nbconvert_exporter": "python",
   "pygments_lexer": "ipython3",
   "version": "3.8.3"
  }
 },
 "nbformat": 4,
 "nbformat_minor": 4
}
