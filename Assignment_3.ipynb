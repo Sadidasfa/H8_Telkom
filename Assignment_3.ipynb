{
 "cells": [
  {
   "cell_type": "markdown",
   "metadata": {},
   "source": [
    "Dalam setiap pelatihan, peserta selalu diberi evaluasi mengenai beberapa hal termasuk First Response & Average Handling serta Customer Effort Score\n",
    "\n",
    "#### First Response & Average Handling\n",
    "Serangkaian pertanyaan yang menilai seberapa responsif penyelenggara dalam menanggapi customer\n",
    "\n",
    "#### Customer Effort Score\n",
    "Serangkaian pertanyaan yang menilai terkait upaya yang dilakukan customer untuk memenuhi kebutuhannya\n",
    "Data Cuctomer Effort Score dikategorikan menjadi CES Tinggi dan CES Rendah\n",
    "\n",
    "Dalam assignment ini dilihat prediksi First Response terhadapat Kategori Customer Effort Score"
   ]
  },
  {
   "cell_type": "code",
   "execution_count": 28,
   "metadata": {},
   "outputs": [],
   "source": [
    "# importing libraries\n",
    "import numpy as np\n",
    "import pandas as pd\n",
    "import matplotlib as mpl\n",
    "import matplotlib.pyplot as plt\n",
    "import folium\n",
    "mpl.style.use(['ggplot'])\n",
    "\n",
    "%matplotlib inline\n",
    "\n",
    "# reading csv data\n",
    "feedback_Lat = pd.read_excel('dataset/Feedback_Lat2_2020.xlsx')"
   ]
  },
  {
   "cell_type": "code",
   "execution_count": 91,
   "metadata": {},
   "outputs": [
    {
     "data": {
      "text/html": [
       "<div>\n",
       "<style scoped>\n",
       "    .dataframe tbody tr th:only-of-type {\n",
       "        vertical-align: middle;\n",
       "    }\n",
       "\n",
       "    .dataframe tbody tr th {\n",
       "        vertical-align: top;\n",
       "    }\n",
       "\n",
       "    .dataframe thead th {\n",
       "        text-align: right;\n",
       "    }\n",
       "</style>\n",
       "<table border=\"1\" class=\"dataframe\">\n",
       "  <thead>\n",
       "    <tr style=\"text-align: right;\">\n",
       "      <th></th>\n",
       "      <th>Nama Pelatihan</th>\n",
       "      <th>Objid Pelatihan</th>\n",
       "      <th>Category</th>\n",
       "      <th>Tipe</th>\n",
       "      <th>Lokasi Pelatihan</th>\n",
       "      <th>Provider</th>\n",
       "      <th>Academy Event</th>\n",
       "      <th>Location</th>\n",
       "      <th>Provider Category</th>\n",
       "      <th>Event Type</th>\n",
       "      <th>...</th>\n",
       "      <th>JML Peserta Hadir</th>\n",
       "      <th>JML UBPP Inst</th>\n",
       "      <th>JML UBPP Delivery</th>\n",
       "      <th>UBPP Penyelenggaraan</th>\n",
       "      <th>UBPP Materi</th>\n",
       "      <th>Net Promotor Score</th>\n",
       "      <th>Customer Satisfaction</th>\n",
       "      <th>First Response &amp; Average Handling</th>\n",
       "      <th>Customer Effort Score</th>\n",
       "      <th>Customer Effort Score Category</th>\n",
       "    </tr>\n",
       "  </thead>\n",
       "  <tbody>\n",
       "    <tr>\n",
       "      <th>0</th>\n",
       "      <td>CHRPE Batch 3</td>\n",
       "      <td>80113017</td>\n",
       "      <td>LAT</td>\n",
       "      <td>NaN</td>\n",
       "      <td>Jakarta</td>\n",
       "      <td>Learning Area 2 Jakarta</td>\n",
       "      <td>BUSINNESS ENABLER</td>\n",
       "      <td>Online (Lokasi Masing-Masing)</td>\n",
       "      <td>Internal</td>\n",
       "      <td>Internal</td>\n",
       "      <td>...</td>\n",
       "      <td>28</td>\n",
       "      <td>18</td>\n",
       "      <td>18</td>\n",
       "      <td>34.0</td>\n",
       "      <td>40.00</td>\n",
       "      <td>-100.0</td>\n",
       "      <td>34.00</td>\n",
       "      <td>40.0</td>\n",
       "      <td>40.0</td>\n",
       "      <td>CES Rendah</td>\n",
       "    </tr>\n",
       "    <tr>\n",
       "      <th>1</th>\n",
       "      <td>Maximizing Digital Transformation</td>\n",
       "      <td>80113296</td>\n",
       "      <td>LAT</td>\n",
       "      <td>Seminar</td>\n",
       "      <td>Makassar</td>\n",
       "      <td>Learning Area 7 Makassar</td>\n",
       "      <td>DSP</td>\n",
       "      <td>Online (Lokasi Masing-Masing)</td>\n",
       "      <td>Internal</td>\n",
       "      <td>Public</td>\n",
       "      <td>...</td>\n",
       "      <td>1</td>\n",
       "      <td>1</td>\n",
       "      <td>1</td>\n",
       "      <td>32.0</td>\n",
       "      <td>32.50</td>\n",
       "      <td>-100.0</td>\n",
       "      <td>26.67</td>\n",
       "      <td>50.0</td>\n",
       "      <td>32.0</td>\n",
       "      <td>CES Rendah</td>\n",
       "    </tr>\n",
       "    <tr>\n",
       "      <th>2</th>\n",
       "      <td>Financial Statement Analysis</td>\n",
       "      <td>80113297</td>\n",
       "      <td>LAT</td>\n",
       "      <td>Seminar</td>\n",
       "      <td>Makassar</td>\n",
       "      <td>Learning Area 7 Makassar</td>\n",
       "      <td>DSP</td>\n",
       "      <td>Online (Lokasi Masing-Masing)</td>\n",
       "      <td>Internal</td>\n",
       "      <td>Public</td>\n",
       "      <td>...</td>\n",
       "      <td>2</td>\n",
       "      <td>1</td>\n",
       "      <td>1</td>\n",
       "      <td>40.0</td>\n",
       "      <td>35.00</td>\n",
       "      <td>-100.0</td>\n",
       "      <td>30.00</td>\n",
       "      <td>50.0</td>\n",
       "      <td>38.0</td>\n",
       "      <td>CES Rendah</td>\n",
       "    </tr>\n",
       "    <tr>\n",
       "      <th>3</th>\n",
       "      <td>Big Data Analyst Batch 4</td>\n",
       "      <td>80112227</td>\n",
       "      <td>LAT</td>\n",
       "      <td>Seminar</td>\n",
       "      <td>Bandung</td>\n",
       "      <td>Learning Area 3 / LO</td>\n",
       "      <td>DSP</td>\n",
       "      <td>DBE Telkom University</td>\n",
       "      <td>External</td>\n",
       "      <td>Public</td>\n",
       "      <td>...</td>\n",
       "      <td>1</td>\n",
       "      <td>1</td>\n",
       "      <td>1</td>\n",
       "      <td>56.0</td>\n",
       "      <td>70.00</td>\n",
       "      <td>-100.0</td>\n",
       "      <td>64.00</td>\n",
       "      <td>50.0</td>\n",
       "      <td>66.0</td>\n",
       "      <td>CES Rendah</td>\n",
       "    </tr>\n",
       "    <tr>\n",
       "      <th>4</th>\n",
       "      <td>Machine Learning Specialization</td>\n",
       "      <td>80112684</td>\n",
       "      <td>LAT</td>\n",
       "      <td>Test Online</td>\n",
       "      <td>Makassar</td>\n",
       "      <td>Learning Area 7 Makassar</td>\n",
       "      <td>DSP</td>\n",
       "      <td>Online (Lokasi Masing-Masing)</td>\n",
       "      <td>Internal</td>\n",
       "      <td>Internal</td>\n",
       "      <td>...</td>\n",
       "      <td>1</td>\n",
       "      <td>1</td>\n",
       "      <td>1</td>\n",
       "      <td>68.0</td>\n",
       "      <td>72.50</td>\n",
       "      <td>0.0</td>\n",
       "      <td>60.00</td>\n",
       "      <td>50.0</td>\n",
       "      <td>74.0</td>\n",
       "      <td>CES Rendah</td>\n",
       "    </tr>\n",
       "    <tr>\n",
       "      <th>5</th>\n",
       "      <td>Private Equity and Venture Capital</td>\n",
       "      <td>80112674</td>\n",
       "      <td>LAT</td>\n",
       "      <td>Test Online</td>\n",
       "      <td>Makassar</td>\n",
       "      <td>Learning Area 7 Makassar</td>\n",
       "      <td>DSP</td>\n",
       "      <td>Online (Lokasi Masing-Masing)</td>\n",
       "      <td>Internal</td>\n",
       "      <td>Public</td>\n",
       "      <td>...</td>\n",
       "      <td>1</td>\n",
       "      <td>1</td>\n",
       "      <td>1</td>\n",
       "      <td>68.0</td>\n",
       "      <td>77.50</td>\n",
       "      <td>0.0</td>\n",
       "      <td>68.00</td>\n",
       "      <td>50.0</td>\n",
       "      <td>76.0</td>\n",
       "      <td>CES Rendah</td>\n",
       "    </tr>\n",
       "    <tr>\n",
       "      <th>6</th>\n",
       "      <td>CGEIT (Certified in the Governance of En</td>\n",
       "      <td>80113648</td>\n",
       "      <td>LAT</td>\n",
       "      <td>Online Forum</td>\n",
       "      <td>Bandung</td>\n",
       "      <td>Learning Area 3 / LO</td>\n",
       "      <td>NITS</td>\n",
       "      <td>Online (Lokasi Masing-Masing)</td>\n",
       "      <td>NaN</td>\n",
       "      <td>Public</td>\n",
       "      <td>...</td>\n",
       "      <td>3</td>\n",
       "      <td>2</td>\n",
       "      <td>2</td>\n",
       "      <td>72.0</td>\n",
       "      <td>81.25</td>\n",
       "      <td>50.0</td>\n",
       "      <td>55.00</td>\n",
       "      <td>60.0</td>\n",
       "      <td>79.0</td>\n",
       "      <td>CES Rendah</td>\n",
       "    </tr>\n",
       "    <tr>\n",
       "      <th>7</th>\n",
       "      <td>Cisco ENCOR</td>\n",
       "      <td>80113992</td>\n",
       "      <td>LAT</td>\n",
       "      <td>Online Forum</td>\n",
       "      <td>Bandung</td>\n",
       "      <td>Learning Area 3 / LO</td>\n",
       "      <td>NITS</td>\n",
       "      <td>Online (Lokasi Masing-Masing)</td>\n",
       "      <td>NaN</td>\n",
       "      <td>Public</td>\n",
       "      <td>...</td>\n",
       "      <td>7</td>\n",
       "      <td>5</td>\n",
       "      <td>5</td>\n",
       "      <td>64.8</td>\n",
       "      <td>76.50</td>\n",
       "      <td>0.0</td>\n",
       "      <td>65.33</td>\n",
       "      <td>62.0</td>\n",
       "      <td>73.2</td>\n",
       "      <td>CES Rendah</td>\n",
       "    </tr>\n",
       "    <tr>\n",
       "      <th>8</th>\n",
       "      <td>Comptia Cybersecurity analyst</td>\n",
       "      <td>80112692</td>\n",
       "      <td>LAT</td>\n",
       "      <td>Pengembangan Materi</td>\n",
       "      <td>Bandung</td>\n",
       "      <td>Learning Area 3 / LO</td>\n",
       "      <td>NITS</td>\n",
       "      <td>Online (Lokasi Masing-Masing)</td>\n",
       "      <td>NaN</td>\n",
       "      <td>Public</td>\n",
       "      <td>...</td>\n",
       "      <td>5</td>\n",
       "      <td>5</td>\n",
       "      <td>5</td>\n",
       "      <td>68.8</td>\n",
       "      <td>72.50</td>\n",
       "      <td>40.0</td>\n",
       "      <td>58.40</td>\n",
       "      <td>66.0</td>\n",
       "      <td>71.6</td>\n",
       "      <td>CES Rendah</td>\n",
       "    </tr>\n",
       "    <tr>\n",
       "      <th>9</th>\n",
       "      <td>Project Management</td>\n",
       "      <td>80113617</td>\n",
       "      <td>LAT</td>\n",
       "      <td>E-learning</td>\n",
       "      <td>Bandung</td>\n",
       "      <td>Learning Area 7 Makassar</td>\n",
       "      <td>DSP</td>\n",
       "      <td>Online (Lokasi Masing-Masing)</td>\n",
       "      <td>Internal</td>\n",
       "      <td>Public</td>\n",
       "      <td>...</td>\n",
       "      <td>1</td>\n",
       "      <td>1</td>\n",
       "      <td>1</td>\n",
       "      <td>52.0</td>\n",
       "      <td>47.50</td>\n",
       "      <td>-100.0</td>\n",
       "      <td>36.67</td>\n",
       "      <td>70.0</td>\n",
       "      <td>48.0</td>\n",
       "      <td>CES Rendah</td>\n",
       "    </tr>\n",
       "  </tbody>\n",
       "</table>\n",
       "<p>10 rows × 25 columns</p>\n",
       "</div>"
      ],
      "text/plain": [
       "                             Nama Pelatihan  Objid Pelatihan Category  \\\n",
       "0                             CHRPE Batch 3         80113017      LAT   \n",
       "1         Maximizing Digital Transformation         80113296      LAT   \n",
       "2              Financial Statement Analysis         80113297      LAT   \n",
       "3                  Big Data Analyst Batch 4         80112227      LAT   \n",
       "4           Machine Learning Specialization         80112684      LAT   \n",
       "5        Private Equity and Venture Capital         80112674      LAT   \n",
       "6  CGEIT (Certified in the Governance of En         80113648      LAT   \n",
       "7                               Cisco ENCOR         80113992      LAT   \n",
       "8             Comptia Cybersecurity analyst         80112692      LAT   \n",
       "9                        Project Management         80113617      LAT   \n",
       "\n",
       "                  Tipe Lokasi Pelatihan                  Provider  \\\n",
       "0                  NaN          Jakarta   Learning Area 2 Jakarta   \n",
       "1              Seminar         Makassar  Learning Area 7 Makassar   \n",
       "2              Seminar         Makassar  Learning Area 7 Makassar   \n",
       "3              Seminar          Bandung      Learning Area 3 / LO   \n",
       "4          Test Online         Makassar  Learning Area 7 Makassar   \n",
       "5          Test Online         Makassar  Learning Area 7 Makassar   \n",
       "6         Online Forum          Bandung      Learning Area 3 / LO   \n",
       "7         Online Forum          Bandung      Learning Area 3 / LO   \n",
       "8  Pengembangan Materi          Bandung      Learning Area 3 / LO   \n",
       "9           E-learning          Bandung  Learning Area 7 Makassar   \n",
       "\n",
       "       Academy Event                       Location Provider Category  \\\n",
       "0  BUSINNESS ENABLER  Online (Lokasi Masing-Masing)          Internal   \n",
       "1                DSP  Online (Lokasi Masing-Masing)          Internal   \n",
       "2                DSP  Online (Lokasi Masing-Masing)          Internal   \n",
       "3                DSP          DBE Telkom University          External   \n",
       "4                DSP  Online (Lokasi Masing-Masing)          Internal   \n",
       "5                DSP  Online (Lokasi Masing-Masing)          Internal   \n",
       "6               NITS  Online (Lokasi Masing-Masing)               NaN   \n",
       "7               NITS  Online (Lokasi Masing-Masing)               NaN   \n",
       "8               NITS  Online (Lokasi Masing-Masing)               NaN   \n",
       "9                DSP  Online (Lokasi Masing-Masing)          Internal   \n",
       "\n",
       "  Event Type  ... JML Peserta Hadir JML UBPP Inst JML UBPP Delivery  \\\n",
       "0   Internal  ...                28            18                18   \n",
       "1     Public  ...                 1             1                 1   \n",
       "2     Public  ...                 2             1                 1   \n",
       "3     Public  ...                 1             1                 1   \n",
       "4   Internal  ...                 1             1                 1   \n",
       "5     Public  ...                 1             1                 1   \n",
       "6     Public  ...                 3             2                 2   \n",
       "7     Public  ...                 7             5                 5   \n",
       "8     Public  ...                 5             5                 5   \n",
       "9     Public  ...                 1             1                 1   \n",
       "\n",
       "   UBPP Penyelenggaraan  UBPP Materi  Net Promotor Score  \\\n",
       "0                  34.0        40.00              -100.0   \n",
       "1                  32.0        32.50              -100.0   \n",
       "2                  40.0        35.00              -100.0   \n",
       "3                  56.0        70.00              -100.0   \n",
       "4                  68.0        72.50                 0.0   \n",
       "5                  68.0        77.50                 0.0   \n",
       "6                  72.0        81.25                50.0   \n",
       "7                  64.8        76.50                 0.0   \n",
       "8                  68.8        72.50                40.0   \n",
       "9                  52.0        47.50              -100.0   \n",
       "\n",
       "   Customer Satisfaction  First Response & Average Handling  \\\n",
       "0                  34.00                               40.0   \n",
       "1                  26.67                               50.0   \n",
       "2                  30.00                               50.0   \n",
       "3                  64.00                               50.0   \n",
       "4                  60.00                               50.0   \n",
       "5                  68.00                               50.0   \n",
       "6                  55.00                               60.0   \n",
       "7                  65.33                               62.0   \n",
       "8                  58.40                               66.0   \n",
       "9                  36.67                               70.0   \n",
       "\n",
       "   Customer Effort Score  Customer Effort Score Category  \n",
       "0                   40.0                      CES Rendah  \n",
       "1                   32.0                      CES Rendah  \n",
       "2                   38.0                      CES Rendah  \n",
       "3                   66.0                      CES Rendah  \n",
       "4                   74.0                      CES Rendah  \n",
       "5                   76.0                      CES Rendah  \n",
       "6                   79.0                      CES Rendah  \n",
       "7                   73.2                      CES Rendah  \n",
       "8                   71.6                      CES Rendah  \n",
       "9                   48.0                      CES Rendah  \n",
       "\n",
       "[10 rows x 25 columns]"
      ]
     },
     "execution_count": 91,
     "metadata": {},
     "output_type": "execute_result"
    }
   ],
   "source": [
    "feedback_Lat.head(10)"
   ]
  },
  {
   "cell_type": "code",
   "execution_count": 20,
   "metadata": {},
   "outputs": [],
   "source": [
    "feedback_Lat['Tgl Mulai'] = pd.to_datetime(feedback_Lat['Tgl Mulai'])"
   ]
  },
  {
   "cell_type": "code",
   "execution_count": 21,
   "metadata": {},
   "outputs": [],
   "source": [
    "feedback_Lat['Bulan'] = feedback_Lat['Tgl Mulai'].dt.month"
   ]
  },
  {
   "cell_type": "code",
   "execution_count": 31,
   "metadata": {},
   "outputs": [
    {
     "data": {
      "text/html": [
       "<div>\n",
       "<style scoped>\n",
       "    .dataframe tbody tr th:only-of-type {\n",
       "        vertical-align: middle;\n",
       "    }\n",
       "\n",
       "    .dataframe tbody tr th {\n",
       "        vertical-align: top;\n",
       "    }\n",
       "\n",
       "    .dataframe thead th {\n",
       "        text-align: right;\n",
       "    }\n",
       "</style>\n",
       "<table border=\"1\" class=\"dataframe\">\n",
       "  <thead>\n",
       "    <tr style=\"text-align: right;\">\n",
       "      <th></th>\n",
       "      <th>First Response &amp; Average Handling</th>\n",
       "      <th>Customer Effort Score</th>\n",
       "      <th>Customer Effort Score Category</th>\n",
       "    </tr>\n",
       "  </thead>\n",
       "  <tbody>\n",
       "    <tr>\n",
       "      <th>0</th>\n",
       "      <td>40.0</td>\n",
       "      <td>40.0</td>\n",
       "      <td>CES Rendah</td>\n",
       "    </tr>\n",
       "    <tr>\n",
       "      <th>1</th>\n",
       "      <td>50.0</td>\n",
       "      <td>32.0</td>\n",
       "      <td>CES Rendah</td>\n",
       "    </tr>\n",
       "    <tr>\n",
       "      <th>2</th>\n",
       "      <td>50.0</td>\n",
       "      <td>38.0</td>\n",
       "      <td>CES Rendah</td>\n",
       "    </tr>\n",
       "    <tr>\n",
       "      <th>3</th>\n",
       "      <td>50.0</td>\n",
       "      <td>66.0</td>\n",
       "      <td>CES Rendah</td>\n",
       "    </tr>\n",
       "    <tr>\n",
       "      <th>4</th>\n",
       "      <td>50.0</td>\n",
       "      <td>74.0</td>\n",
       "      <td>CES Rendah</td>\n",
       "    </tr>\n",
       "    <tr>\n",
       "      <th>...</th>\n",
       "      <td>...</td>\n",
       "      <td>...</td>\n",
       "      <td>...</td>\n",
       "    </tr>\n",
       "    <tr>\n",
       "      <th>930</th>\n",
       "      <td>100.0</td>\n",
       "      <td>100.0</td>\n",
       "      <td>CES Tinggi</td>\n",
       "    </tr>\n",
       "    <tr>\n",
       "      <th>931</th>\n",
       "      <td>100.0</td>\n",
       "      <td>100.0</td>\n",
       "      <td>CES Tinggi</td>\n",
       "    </tr>\n",
       "    <tr>\n",
       "      <th>932</th>\n",
       "      <td>100.0</td>\n",
       "      <td>100.0</td>\n",
       "      <td>CES Tinggi</td>\n",
       "    </tr>\n",
       "    <tr>\n",
       "      <th>933</th>\n",
       "      <td>100.0</td>\n",
       "      <td>100.0</td>\n",
       "      <td>CES Tinggi</td>\n",
       "    </tr>\n",
       "    <tr>\n",
       "      <th>934</th>\n",
       "      <td>100.0</td>\n",
       "      <td>100.0</td>\n",
       "      <td>CES Tinggi</td>\n",
       "    </tr>\n",
       "  </tbody>\n",
       "</table>\n",
       "<p>935 rows × 3 columns</p>\n",
       "</div>"
      ],
      "text/plain": [
       "     First Response & Average Handling  Customer Effort Score  \\\n",
       "0                                 40.0                   40.0   \n",
       "1                                 50.0                   32.0   \n",
       "2                                 50.0                   38.0   \n",
       "3                                 50.0                   66.0   \n",
       "4                                 50.0                   74.0   \n",
       "..                                 ...                    ...   \n",
       "930                              100.0                  100.0   \n",
       "931                              100.0                  100.0   \n",
       "932                              100.0                  100.0   \n",
       "933                              100.0                  100.0   \n",
       "934                              100.0                  100.0   \n",
       "\n",
       "    Customer Effort Score Category  \n",
       "0                       CES Rendah  \n",
       "1                       CES Rendah  \n",
       "2                       CES Rendah  \n",
       "3                       CES Rendah  \n",
       "4                       CES Rendah  \n",
       "..                             ...  \n",
       "930                     CES Tinggi  \n",
       "931                     CES Tinggi  \n",
       "932                     CES Tinggi  \n",
       "933                     CES Tinggi  \n",
       "934                     CES Tinggi  \n",
       "\n",
       "[935 rows x 3 columns]"
      ]
     },
     "execution_count": 31,
     "metadata": {},
     "output_type": "execute_result"
    }
   ],
   "source": [
    "df_data = pd.DataFrame(feedback_Lat)\n",
    "df_data.drop(['Nama Pelatihan', 'Objid Pelatihan', 'Category', 'Tipe', 'Lokasi Pelatihan', 'Provider', 'Academy Event', 'Location', 'Provider Category', 'Event Type', 'Status', 'Tgl Mulai', 'Tgl Selesai', 'JML Peserta', 'JML Confirmed', 'JML Peserta Hadir', 'JML UBPP Inst', 'JML UBPP Delivery', 'UBPP Penyelenggaraan', 'UBPP Materi', 'Net Promotor Score', 'Customer Satisfaction'], axis=1, inplace=True)\n",
    "df_data.dropna(inplace=True)\n",
    "df_data"
   ]
  },
  {
   "cell_type": "code",
   "execution_count": 32,
   "metadata": {},
   "outputs": [
    {
     "name": "stdout",
     "output_type": "stream",
     "text": [
      "<class 'pandas.core.frame.DataFrame'>\n",
      "Int64Index: 935 entries, 0 to 934\n",
      "Data columns (total 3 columns):\n",
      " #   Column                             Non-Null Count  Dtype  \n",
      "---  ------                             --------------  -----  \n",
      " 0   First Response & Average Handling  935 non-null    float64\n",
      " 1   Customer Effort Score              935 non-null    float64\n",
      " 2   Customer Effort Score Category     935 non-null    object \n",
      "dtypes: float64(2), object(1)\n",
      "memory usage: 29.2+ KB\n"
     ]
    }
   ],
   "source": [
    "df_data.info()"
   ]
  },
  {
   "cell_type": "markdown",
   "metadata": {},
   "source": [
    "# Logistic Regression"
   ]
  },
  {
   "cell_type": "code",
   "execution_count": 36,
   "metadata": {},
   "outputs": [],
   "source": [
    "# Prediksi Category Customer Effort Score berdasarkan First Response & Average Handling\n",
    "# data_x = First Response & Average Handling\n",
    "# data_y = Category Customer Effort Score"
   ]
  },
  {
   "cell_type": "code",
   "execution_count": 33,
   "metadata": {},
   "outputs": [],
   "source": [
    "import matplotlib.pyplot as plt\n",
    "import numpy as np\n",
    "\n",
    "from sklearn.linear_model import LogisticRegression\n",
    "from sklearn.model_selection import train_test_split\n",
    "from sklearn.metrics import classification_report, confusion_matrix\n",
    "from sklearn.datasets import load_digits\n",
    "from sklearn.preprocessing import StandardScaler\n",
    "from sklearn import metrics"
   ]
  },
  {
   "cell_type": "code",
   "execution_count": 34,
   "metadata": {},
   "outputs": [
    {
     "data": {
      "text/plain": [
       "['First Response & Average Handling',\n",
       " 'Customer Effort Score',\n",
       " 'Customer Effort Score Category']"
      ]
     },
     "execution_count": 34,
     "metadata": {},
     "output_type": "execute_result"
    }
   ],
   "source": [
    "list(df_data.columns)"
   ]
  },
  {
   "cell_type": "code",
   "execution_count": 35,
   "metadata": {},
   "outputs": [],
   "source": [
    "# Split data\n",
    "x_train, x_test, y_train, y_test = train_test_split(df_data[['First Response & Average Handling']], df_data[['Customer Effort Score Category']], test_size=0.2, random_state=0)"
   ]
  },
  {
   "cell_type": "code",
   "execution_count": 37,
   "metadata": {},
   "outputs": [
    {
     "data": {
      "text/plain": [
       "((748, 1), (187, 1), (748, 1), (187, 1))"
      ]
     },
     "execution_count": 37,
     "metadata": {},
     "output_type": "execute_result"
    }
   ],
   "source": [
    "(x_train.shape, x_test.shape, y_train.shape, y_test.shape)"
   ]
  },
  {
   "cell_type": "code",
   "execution_count": 38,
   "metadata": {},
   "outputs": [],
   "source": [
    "scaler = StandardScaler()\n",
    "x_train = scaler.fit_transform(x_train)"
   ]
  },
  {
   "cell_type": "code",
   "execution_count": 39,
   "metadata": {},
   "outputs": [
    {
     "data": {
      "text/plain": [
       "(748, 1)"
      ]
     },
     "execution_count": 39,
     "metadata": {},
     "output_type": "execute_result"
    }
   ],
   "source": [
    "x_train.shape"
   ]
  },
  {
   "cell_type": "code",
   "execution_count": 40,
   "metadata": {},
   "outputs": [
    {
     "name": "stderr",
     "output_type": "stream",
     "text": [
      "/Users/sadida/opt/anaconda3/lib/python3.8/site-packages/sklearn/utils/validation.py:73: DataConversionWarning: A column-vector y was passed when a 1d array was expected. Please change the shape of y to (n_samples, ), for example using ravel().\n",
      "  return f(**kwargs)\n"
     ]
    },
    {
     "data": {
      "text/plain": [
       "LogisticRegression(random_state=0, solver='liblinear')"
      ]
     },
     "execution_count": 40,
     "metadata": {},
     "output_type": "execute_result"
    }
   ],
   "source": [
    "model = LogisticRegression(solver='liblinear', random_state=0)\n",
    "model.fit(x_train, y_train)"
   ]
  },
  {
   "cell_type": "code",
   "execution_count": 41,
   "metadata": {},
   "outputs": [
    {
     "data": {
      "text/plain": [
       "array(['CES Rendah', 'CES Tinggi'], dtype=object)"
      ]
     },
     "execution_count": 41,
     "metadata": {},
     "output_type": "execute_result"
    }
   ],
   "source": [
    "model.classes_"
   ]
  },
  {
   "cell_type": "code",
   "execution_count": 42,
   "metadata": {},
   "outputs": [],
   "source": [
    "x_test = scaler.transform(x_test)"
   ]
  },
  {
   "cell_type": "code",
   "execution_count": 43,
   "metadata": {},
   "outputs": [
    {
     "data": {
      "text/plain": [
       "array([[0.59875102, 0.40124898],\n",
       "       [0.3451805 , 0.6548195 ],\n",
       "       [0.01266005, 0.98733995],\n",
       "       ...,\n",
       "       [0.33659245, 0.66340755],\n",
       "       [0.42024819, 0.57975181],\n",
       "       [0.25878995, 0.74121005]])"
      ]
     },
     "execution_count": 43,
     "metadata": {},
     "output_type": "execute_result"
    }
   ],
   "source": [
    "model.predict_proba(x_train)"
   ]
  },
  {
   "cell_type": "code",
   "execution_count": 45,
   "metadata": {},
   "outputs": [],
   "source": [
    "y_pred = model.predict(x_test)"
   ]
  },
  {
   "cell_type": "code",
   "execution_count": 46,
   "metadata": {},
   "outputs": [
    {
     "data": {
      "text/plain": [
       "0.8355614973262032"
      ]
     },
     "execution_count": 46,
     "metadata": {},
     "output_type": "execute_result"
    }
   ],
   "source": [
    "# akurasi data train\n",
    "model.score(x_train, y_train)"
   ]
  },
  {
   "cell_type": "code",
   "execution_count": 48,
   "metadata": {},
   "outputs": [
    {
     "data": {
      "text/plain": [
       "0.8021390374331551"
      ]
     },
     "execution_count": 48,
     "metadata": {},
     "output_type": "execute_result"
    }
   ],
   "source": [
    "# akurasi data test\n",
    "metrics.accuracy_score(y_pred, y_test)"
   ]
  },
  {
   "cell_type": "code",
   "execution_count": 49,
   "metadata": {},
   "outputs": [
    {
     "data": {
      "text/plain": [
       "array([[68, 22],\n",
       "       [15, 82]])"
      ]
     },
     "execution_count": 49,
     "metadata": {},
     "output_type": "execute_result"
    }
   ],
   "source": [
    "confusion_matrix(y_test, y_pred)"
   ]
  },
  {
   "cell_type": "code",
   "execution_count": 50,
   "metadata": {},
   "outputs": [
    {
     "data": {
      "image/png": "[encoded data removed]",
      "text/plain": [
       "<Figure size 576x576 with 1 Axes>"
      ]
     },
     "metadata": {
      "needs_background": "light"
     },
     "output_type": "display_data"
    }
   ],
   "source": [
    "cm = confusion_matrix(y_test, y_pred)\n",
    "\n",
    "fig, ax = plt.subplots(figsize=(8, 8))\n",
    "ax.imshow(cm)\n",
    "ax.grid(False)\n",
    "ax.xaxis.set(ticks=(0, 1), ticklabels=('Predicted CES Tinggi', 'Predicted CES Rendah'))\n",
    "ax.yaxis.set(ticks=(0, 1), ticklabels=('Actual CES Tinggi', 'Actual CES Rendah'))\n",
    "ax.set_ylim(1.5, -0.5)\n",
    "for i in range(2):\n",
    "    for j in range(2):\n",
    "        ax.text(j, i, cm[i, j], ha='center', va='center', color='red')\n",
    "plt.show()"
   ]
  },
  {
   "cell_type": "markdown",
   "metadata": {},
   "source": [
    "# KNN"
   ]
  },
  {
   "cell_type": "code",
   "execution_count": 51,
   "metadata": {},
   "outputs": [],
   "source": [
    "# Prediksi Category Customer Effort Score berdasarkan First Response & Average Handling\n",
    "# data_x = First Response & Average Handling\n",
    "# data_y = Category Customer Effort Score"
   ]
  },
  {
   "cell_type": "code",
   "execution_count": 52,
   "metadata": {},
   "outputs": [],
   "source": [
    "from sklearn.model_selection import train_test_split\n",
    "from sklearn.neighbors import KNeighborsClassifier"
   ]
  },
  {
   "cell_type": "code",
   "execution_count": 55,
   "metadata": {},
   "outputs": [
    {
     "data": {
      "text/plain": [
       "((935, 1), (935, 1))"
      ]
     },
     "execution_count": 55,
     "metadata": {},
     "output_type": "execute_result"
    }
   ],
   "source": [
    "(df_data[['First Response & Average Handling']].shape, df_data[['Customer Effort Score Category']].shape)"
   ]
  },
  {
   "cell_type": "code",
   "execution_count": 56,
   "metadata": {},
   "outputs": [],
   "source": [
    "#Split Data\n",
    "knn_x_train, knn_x_test, knn_y_train, knn_y_test = train_test_split(df_data[['First Response & Average Handling']], df_data['Customer Effort Score Category'], test_size=0.2, random_state=0)"
   ]
  },
  {
   "cell_type": "code",
   "execution_count": 57,
   "metadata": {},
   "outputs": [
    {
     "data": {
      "text/plain": [
       "((748, 1), (187, 1), (748,), (187,))"
      ]
     },
     "execution_count": 57,
     "metadata": {},
     "output_type": "execute_result"
    }
   ],
   "source": [
    "(knn_x_train.shape, knn_x_test.shape, knn_y_train.shape, knn_y_test.shape)"
   ]
  },
  {
   "cell_type": "code",
   "execution_count": 58,
   "metadata": {},
   "outputs": [],
   "source": [
    "#Create KNN Classifier\n",
    "knn = KNeighborsClassifier(n_neighbors=5)\n",
    "\n",
    "#Train the model using the training sets\n",
    "knn.fit(knn_x_train, knn_y_train)\n",
    "\n",
    "#Predict the response for test dataset\n",
    "y_pred_knn = knn.predict(knn_x_test)"
   ]
  },
  {
   "cell_type": "code",
   "execution_count": 59,
   "metadata": {},
   "outputs": [
    {
     "data": {
      "text/plain": [
       "0.7540106951871658"
      ]
     },
     "execution_count": 59,
     "metadata": {},
     "output_type": "execute_result"
    }
   ],
   "source": [
    "# Akurasi Model\n",
    "metrics.accuracy_score(y_pred_knn, knn_y_test)"
   ]
  },
  {
   "cell_type": "markdown",
   "metadata": {},
   "source": [
    "# SVM"
   ]
  },
  {
   "cell_type": "code",
   "execution_count": 61,
   "metadata": {},
   "outputs": [],
   "source": [
    "from sklearn import model_selection, svm\n",
    "from sklearn.metrics import accuracy_score"
   ]
  },
  {
   "cell_type": "code",
   "execution_count": 62,
   "metadata": {},
   "outputs": [
    {
     "data": {
      "text/plain": [
       "((935, 1), (935, 1))"
      ]
     },
     "execution_count": 62,
     "metadata": {},
     "output_type": "execute_result"
    }
   ],
   "source": [
    "(df_data[['First Response & Average Handling']].shape, df_data[['Customer Effort Score Category']].shape)"
   ]
  },
  {
   "cell_type": "code",
   "execution_count": 63,
   "metadata": {},
   "outputs": [],
   "source": [
    "x_train_svm, x_test_svm, y_train_svm, y_test_svm = train_test_split(df_data[['First Response & Average Handling']], df_data['Customer Effort Score Category'], test_size=0.2, random_state=0)"
   ]
  },
  {
   "cell_type": "code",
   "execution_count": 64,
   "metadata": {},
   "outputs": [],
   "source": [
    "#Create a svm Classifier\n",
    "clf = svm.SVC(kernel='linear') # Linear Kernel\n",
    "\n",
    "#Train the model using the training sets\n",
    "clf.fit(x_train_svm, y_train_svm) \n",
    "\n",
    "#Predict the response for test dataset\n",
    "y_pred_svm = clf.predict(x_test_svm)"
   ]
  },
  {
   "cell_type": "code",
   "execution_count": 65,
   "metadata": {},
   "outputs": [
    {
     "name": "stdout",
     "output_type": "stream",
     "text": [
      "Accuracy: 0.8021390374331551\n"
     ]
    }
   ],
   "source": [
    "# Model Accuracy: how often is the classifier correct?\n",
    "print(\"Accuracy:\", accuracy_score(y_test_svm, y_pred_svm))"
   ]
  },
  {
   "cell_type": "markdown",
   "metadata": {},
   "source": [
    "# Decision Tree"
   ]
  },
  {
   "cell_type": "code",
   "execution_count": 66,
   "metadata": {},
   "outputs": [],
   "source": [
    "from sklearn.tree import DecisionTreeClassifier"
   ]
  },
  {
   "cell_type": "code",
   "execution_count": 67,
   "metadata": {},
   "outputs": [],
   "source": [
    "x_train_dt, x_test_dt, y_train_dt, y_test_dt = train_test_split(df_data[['First Response & Average Handling']], df_data['Customer Effort Score Category'], test_size=0.2, random_state=0)"
   ]
  },
  {
   "cell_type": "code",
   "execution_count": 68,
   "metadata": {},
   "outputs": [],
   "source": [
    "# Create Decision Tree classifer object\n",
    "dct = DecisionTreeClassifier()\n",
    "\n",
    "# Train Decision Tree Classifer\n",
    "dct = dct.fit(x_train_dt,y_train_dt)\n",
    "\n",
    "#Predict the response for test dataset\n",
    "y_pred = dct.predict(x_test_dt)"
   ]
  },
  {
   "cell_type": "code",
   "execution_count": 69,
   "metadata": {},
   "outputs": [
    {
     "name": "stdout",
     "output_type": "stream",
     "text": [
      "Accuracy: 0.7700534759358288\n"
     ]
    }
   ],
   "source": [
    "# Model Accuracy, how often is the classifier correct?\n",
    "print(\"Accuracy:\",metrics.accuracy_score(y_test, y_pred))"
   ]
  },
  {
   "cell_type": "markdown",
   "metadata": {},
   "source": [
    "# Random Forest"
   ]
  },
  {
   "cell_type": "code",
   "execution_count": 70,
   "metadata": {},
   "outputs": [],
   "source": [
    "x_train_rf, x_test_rf, y_train_rf, y_test_rf = train_test_split(df_data[['First Response & Average Handling']], df_data['Customer Effort Score Category'], test_size=0.2, random_state=0)"
   ]
  },
  {
   "cell_type": "code",
   "execution_count": 71,
   "metadata": {},
   "outputs": [],
   "source": [
    "#Import Random Forest Model\n",
    "from sklearn.ensemble import RandomForestClassifier\n",
    " \n",
    "#Create a Gaussian Classifier\n",
    "rfc=RandomForestClassifier(n_estimators=100)\n",
    " \n",
    "#Train the model using the training sets y_pred=clf.predict(X_test)\n",
    "rfc.fit(x_train_rf, y_train_rf) \n",
    "\n",
    "y_pred_rfc=rfc.predict(x_test_rf)"
   ]
  },
  {
   "cell_type": "code",
   "execution_count": 72,
   "metadata": {},
   "outputs": [
    {
     "name": "stdout",
     "output_type": "stream",
     "text": [
      "Accuracy Random Forest: 0.7700534759358288\n"
     ]
    }
   ],
   "source": [
    "print(\"Accuracy Random Forest:\",metrics.accuracy_score(y_test_rf, y_pred_rfc))"
   ]
  },
  {
   "cell_type": "markdown",
   "metadata": {},
   "source": [
    "# Naive Bayes"
   ]
  },
  {
   "cell_type": "code",
   "execution_count": 74,
   "metadata": {},
   "outputs": [],
   "source": [
    "x_train_nbc, x_test_nbc, y_train_nbc, y_test_nbc = train_test_split(df_data[['First Response & Average Handling']], df_data['Customer Effort Score Category'], test_size=0.2, random_state=0)"
   ]
  },
  {
   "cell_type": "code",
   "execution_count": 75,
   "metadata": {},
   "outputs": [
    {
     "data": {
      "text/plain": [
       "((748, 1), (187, 1), (748,), (187,))"
      ]
     },
     "execution_count": 75,
     "metadata": {},
     "output_type": "execute_result"
    }
   ],
   "source": [
    "(x_train_nbc.shape, x_test_nbc.shape, y_train_nbc.shape, y_test_nbc.shape)"
   ]
  },
  {
   "cell_type": "code",
   "execution_count": 76,
   "metadata": {},
   "outputs": [],
   "source": [
    "from sklearn.naive_bayes import GaussianNB \n",
    "nbc=GaussianNB()\n",
    "nbc.fit(x_train_nbc, y_train_nbc)\n",
    "(x_train_nbc.shape, y_train_nbc.shape)\n",
    "y_pred_nbc = nbc.predict(x_test_nbc)"
   ]
  },
  {
   "cell_type": "code",
   "execution_count": 77,
   "metadata": {},
   "outputs": [
    {
     "name": "stdout",
     "output_type": "stream",
     "text": [
      "     First Response & Average Handling\n",
      "386                              88.80\n",
      "624                              91.25\n",
      "892                             100.00\n",
      "85                               80.91\n",
      "812                              95.71\n",
      "..                                 ...\n",
      "835                              96.67\n",
      "192                              85.00\n",
      "629                              91.34\n",
      "559                              90.50\n",
      "684                              92.22\n",
      "\n",
      "[748 rows x 1 columns]\n"
     ]
    }
   ],
   "source": [
    "print(x_train_nbc)"
   ]
  },
  {
   "cell_type": "code",
   "execution_count": 78,
   "metadata": {},
   "outputs": [
    {
     "name": "stdout",
     "output_type": "stream",
     "text": [
      "Accuracy Naive Bayes: 0.7807486631016043\n"
     ]
    }
   ],
   "source": [
    "print(\"Accuracy Naive Bayes:\",metrics.accuracy_score(y_test_nbc, y_pred_nbc))"
   ]
  },
  {
   "cell_type": "markdown",
   "metadata": {},
   "source": [
    "# Confusion Matrix"
   ]
  },
  {
   "cell_type": "code",
   "execution_count": 83,
   "metadata": {},
   "outputs": [],
   "source": [
    "from sklearn.metrics import confusion_matrix"
   ]
  },
  {
   "cell_type": "code",
   "execution_count": 85,
   "metadata": {},
   "outputs": [],
   "source": [
    "x_train_nbc, x_test_nbc, y_train_nbc, y_test_nbc = train_test_split(df_data[['First Response & Average Handling']], df_data['Customer Effort Score Category'], test_size=0.2, random_state=0)"
   ]
  },
  {
   "cell_type": "code",
   "execution_count": 86,
   "metadata": {},
   "outputs": [
    {
     "data": {
      "text/plain": [
       "array([[60, 30],\n",
       "       [11, 86]])"
      ]
     },
     "execution_count": 86,
     "metadata": {},
     "output_type": "execute_result"
    }
   ],
   "source": [
    "cm = confusion_matrix(y_test_nbc, y_pred_nbc)\n",
    "cm"
   ]
  },
  {
   "cell_type": "markdown",
   "metadata": {},
   "source": [
    "# Visualization"
   ]
  },
  {
   "cell_type": "markdown",
   "metadata": {},
   "source": [
    "## Visualisasi Eror Rate dengan KNN"
   ]
  },
  {
   "cell_type": "code",
   "execution_count": 89,
   "metadata": {},
   "outputs": [
    {
     "data": {
      "text/plain": [
       "Text(0, 0.5, 'Error mean')"
      ]
     },
     "execution_count": 89,
     "metadata": {},
     "output_type": "execute_result"
    },
    {
     "data": {
      "image/png": "[encoded data removed]",
      "text/plain": [
       "<Figure size 864x432 with 1 Axes>"
      ]
     },
     "metadata": {
      "needs_background": "light"
     },
     "output_type": "display_data"
    }
   ],
   "source": [
    "error = []\n",
    "\n",
    "# Calculating error for K values between 1 and 40\n",
    "for i in range(1, 40):  \n",
    "    knn = KNeighborsClassifier(n_neighbors=i)\n",
    "    knn.fit(knn_x_train, knn_y_train)\n",
    "    pred_i = knn.predict(knn_x_test)\n",
    "    error.append(np.mean(pred_i != knn_y_test))\n",
    "    \n",
    "plt.figure(figsize=(12, 6))  \n",
    "plt.plot(range(1, 40), error, color='red', linestyle='dashed', marker='o',  \n",
    "         markerfacecolor='blue', markersize=10)\n",
    "plt.title('Error Rate K')  \n",
    "plt.xlabel('K')  \n",
    "plt.ylabel('Error mean')"
   ]
  },
  {
   "cell_type": "markdown",
   "metadata": {},
   "source": [
    "## Visualisasi Confusion Matrix dengan Algoritma Naive Bayes"
   ]
  },
  {
   "cell_type": "code",
   "execution_count": 90,
   "metadata": {},
   "outputs": [
    {
     "data": {
      "image/png": "[encoded data removed]",
      "text/plain": [
       "<Figure size 576x576 with 1 Axes>"
      ]
     },
     "metadata": {
      "needs_background": "light"
     },
     "output_type": "display_data"
    }
   ],
   "source": [
    "fig, ax = plt.subplots(figsize=(8, 8))\n",
    "ax.imshow(cm)\n",
    "ax.grid(False)\n",
    "ax.xaxis.set(ticks=(0, 1), ticklabels=('Predicted 0s', 'Predicted 1s'))\n",
    "ax.yaxis.set(ticks=(0, 1), ticklabels=('Actual 0s', 'Actual 1s'))\n",
    "ax.set_ylim(1.5, -0.5)\n",
    "for i in range(2):\n",
    "    for j in range(2):\n",
    "        ax.text(j, i, cm[i, j], ha='center', va='center', color='red')\n",
    "plt.show()"
   ]
  },
  {
   "cell_type": "code",
   "execution_count": null,
   "metadata": {},
   "outputs": [],
   "source": []
  }
 ],
 "metadata": {
  "kernelspec": {
   "display_name": "Python 3",
   "language": "python",
   "name": "python3"
  },
  "language_info": {
   "codemirror_mode": {
    "name": "ipython",
    "version": 3
   },
   "file_extension": ".py",
   "mimetype": "text/x-python",
   "name": "python",
   "nbconvert_exporter": "python",
   "pygments_lexer": "ipython3",
   "version": "3.8.3"
  }
 },
 "nbformat": 4,
 "nbformat_minor": 4
}
