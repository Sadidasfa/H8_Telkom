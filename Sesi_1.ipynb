{
  "nbformat": 4,
  "nbformat_minor": 0,
  "metadata": {
    "colab": {
      "name": "Sesi_1.ipynb",
      "provenance": []
    },
    "kernelspec": {
      "name": "python3",
      "display_name": "Python 3"
    }
  },
  "cells": [
    {
      "cell_type": "markdown",
      "metadata": {
        "id": "2KquCdeKlLjd"
      },
      "source": [
        "# Sesi 1"
      ]
    },
    {
      "cell_type": "markdown",
      "metadata": {
        "id": "7n-UmmPYoWPt"
      },
      "source": [
        "## Integer\n",
        "Integer adalah bilangan bulat pada Python"
      ]
    },
    {
      "cell_type": "code",
      "metadata": {
        "colab": {
          "base_uri": "https://localhost:8080/"
        },
        "id": "vTDXWIVBkKWg",
        "outputId": "bbff6d32-585b-4d41-b5ca-248e4d1c8592"
      },
      "source": [
        "print(1)"
      ],
      "execution_count": 1,
      "outputs": [
        {
          "output_type": "stream",
          "text": [
            "1\n"
          ],
          "name": "stdout"
        }
      ]
    },
    {
      "cell_type": "code",
      "metadata": {
        "colab": {
          "base_uri": "https://localhost:8080/"
        },
        "id": "xsUjsLMyoiDn",
        "outputId": "552c6ee2-7727-4fe5-a32b-67c7950371a4"
      },
      "source": [
        "print(type(10))"
      ],
      "execution_count": 2,
      "outputs": [
        {
          "output_type": "stream",
          "text": [
            "<class 'int'>\n"
          ],
          "name": "stdout"
        }
      ]
    },
    {
      "cell_type": "code",
      "metadata": {
        "id": "T9N0qkNoopgH"
      },
      "source": [
        ""
      ],
      "execution_count": null,
      "outputs": []
    },
    {
      "cell_type": "markdown",
      "metadata": {
        "id": "YFA1QwzppB5u"
      },
      "source": [
        "## Flow\n",
        "Flow adalah pecahan pada Python"
      ]
    },
    {
      "cell_type": "code",
      "metadata": {
        "colab": {
          "base_uri": "https://localhost:8080/"
        },
        "id": "nDBlAsznpHvL",
        "outputId": "9190a3a1-a468-4b47-ffdf-8ea9690b65bb"
      },
      "source": [
        "print(4.2)"
      ],
      "execution_count": 3,
      "outputs": [
        {
          "output_type": "stream",
          "text": [
            "4.2\n"
          ],
          "name": "stdout"
        }
      ]
    },
    {
      "cell_type": "code",
      "metadata": {
        "colab": {
          "base_uri": "https://localhost:8080/"
        },
        "id": "Mmjhiz6UpJ4a",
        "outputId": "770c648d-1db6-413d-b78f-de6ce94a654a"
      },
      "source": [
        "print(type(4.2))"
      ],
      "execution_count": 7,
      "outputs": [
        {
          "output_type": "stream",
          "text": [
            "<class 'float'>\n"
          ],
          "name": "stdout"
        }
      ]
    },
    {
      "cell_type": "code",
      "metadata": {
        "colab": {
          "base_uri": "https://localhost:8080/"
        },
        "id": "JbBUVQFypMpZ",
        "outputId": "f1726dfb-ebc7-4287-a146-51b31cb3ff08"
      },
      "source": [
        "print(4.)"
      ],
      "execution_count": 8,
      "outputs": [
        {
          "output_type": "stream",
          "text": [
            "4.0\n"
          ],
          "name": "stdout"
        }
      ]
    },
    {
      "cell_type": "code",
      "metadata": {
        "colab": {
          "base_uri": "https://localhost:8080/"
        },
        "id": "CVfmBvISpyEP",
        "outputId": "afcdff11-dafd-403a-e776-d2f0658d0f7d"
      },
      "source": [
        "print(.2)"
      ],
      "execution_count": 9,
      "outputs": [
        {
          "output_type": "stream",
          "text": [
            "0.2\n"
          ],
          "name": "stdout"
        }
      ]
    },
    {
      "cell_type": "code",
      "metadata": {
        "colab": {
          "base_uri": "https://localhost:8080/"
        },
        "id": "Mx6DduyEp2Ix",
        "outputId": "55bae82b-9041-4817-af1f-190fa7e70d0a"
      },
      "source": [
        "print(.4e8)"
      ],
      "execution_count": 10,
      "outputs": [
        {
          "output_type": "stream",
          "text": [
            "40000000.0\n"
          ],
          "name": "stdout"
        }
      ]
    },
    {
      "cell_type": "code",
      "metadata": {
        "id": "Pc71cZsRp6-I"
      },
      "source": [
        ""
      ],
      "execution_count": null,
      "outputs": []
    },
    {
      "cell_type": "markdown",
      "metadata": {
        "id": "fRaitjxkp8HA"
      },
      "source": [
        "### String"
      ]
    },
    {
      "cell_type": "code",
      "metadata": {
        "colab": {
          "base_uri": "https://localhost:8080/"
        },
        "id": "Iy_Dd-G4p-Fy",
        "outputId": "ea9beb95-6590-4a2e-ec76-8c2ff6c3b9b4"
      },
      "source": [
        "print('Hacktiv8')"
      ],
      "execution_count": 11,
      "outputs": [
        {
          "output_type": "stream",
          "text": [
            "Hacktiv8\n"
          ],
          "name": "stdout"
        }
      ]
    },
    {
      "cell_type": "code",
      "metadata": {
        "colab": {
          "base_uri": "https://localhost:8080/"
        },
        "id": "Nwe29PheqCRq",
        "outputId": "edaa5b76-a073-4207-d5b2-dfa0a24d656f"
      },
      "source": [
        "print(type('Hacktiv8'))"
      ],
      "execution_count": 12,
      "outputs": [
        {
          "output_type": "stream",
          "text": [
            "<class 'str'>\n"
          ],
          "name": "stdout"
        }
      ]
    },
    {
      "cell_type": "code",
      "metadata": {
        "colab": {
          "base_uri": "https://localhost:8080/"
        },
        "id": "EONdy-vtqHnn",
        "outputId": "46f28a3f-6ccf-4ce8-9423-dce111897bb0"
      },
      "source": [
        "print(type('4'))"
      ],
      "execution_count": 13,
      "outputs": [
        {
          "output_type": "stream",
          "text": [
            "<class 'str'>\n"
          ],
          "name": "stdout"
        }
      ]
    },
    {
      "cell_type": "markdown",
      "metadata": {
        "id": "lvro01QzrDW3"
      },
      "source": [
        "### Boolean"
      ]
    },
    {
      "cell_type": "code",
      "metadata": {
        "colab": {
          "base_uri": "https://localhost:8080/"
        },
        "id": "Y2t1gMKrq0oD",
        "outputId": "2ea69c45-a65f-43b1-c679-a7b4e2dcffa8"
      },
      "source": [
        "print(type(True))"
      ],
      "execution_count": 14,
      "outputs": [
        {
          "output_type": "stream",
          "text": [
            "<class 'bool'>\n"
          ],
          "name": "stdout"
        }
      ]
    },
    {
      "cell_type": "code",
      "metadata": {
        "colab": {
          "base_uri": "https://localhost:8080/"
        },
        "id": "Q9YXYkwVr7Bd",
        "outputId": "b29dd746-748e-439b-cc6a-85d8c40dc01a"
      },
      "source": [
        "print(type(False))"
      ],
      "execution_count": 15,
      "outputs": [
        {
          "output_type": "stream",
          "text": [
            "<class 'bool'>\n"
          ],
          "name": "stdout"
        }
      ]
    },
    {
      "cell_type": "markdown",
      "metadata": {
        "id": "PRtzsA1Ts9Nj"
      },
      "source": [
        "## Variabel Assignment"
      ]
    },
    {
      "cell_type": "code",
      "metadata": {
        "id": "qGAwMvBqsDik"
      },
      "source": [
        "kotakbrownies = 5"
      ],
      "execution_count": 16,
      "outputs": []
    },
    {
      "cell_type": "code",
      "metadata": {
        "colab": {
          "base_uri": "https://localhost:8080/"
        },
        "id": "xSQ2_sTxtFqe",
        "outputId": "8020c6ad-e26b-4a93-9d65-2240681b8d06"
      },
      "source": [
        "print (kotakbrownies)"
      ],
      "execution_count": 17,
      "outputs": [
        {
          "output_type": "stream",
          "text": [
            "5\n"
          ],
          "name": "stdout"
        }
      ]
    },
    {
      "cell_type": "code",
      "metadata": {
        "colab": {
          "base_uri": "https://localhost:8080/"
        },
        "id": "AhqOhNyCtR8H",
        "outputId": "423aff6d-3829-4c09-b624-af836ac0579b"
      },
      "source": [
        "kotakbrownies"
      ],
      "execution_count": 18,
      "outputs": [
        {
          "output_type": "execute_result",
          "data": {
            "text/plain": [
              "5"
            ]
          },
          "metadata": {
            "tags": []
          },
          "execution_count": 18
        }
      ]
    },
    {
      "cell_type": "code",
      "metadata": {
        "id": "J21V_M_NtVk0"
      },
      "source": [
        "kotakbrownies = 10"
      ],
      "execution_count": 19,
      "outputs": []
    },
    {
      "cell_type": "code",
      "metadata": {
        "colab": {
          "base_uri": "https://localhost:8080/"
        },
        "id": "ChWuf7shte66",
        "outputId": "65a375f6-7079-4697-cc5a-25082a49c13b"
      },
      "source": [
        "kotakbrownies"
      ],
      "execution_count": 20,
      "outputs": [
        {
          "output_type": "execute_result",
          "data": {
            "text/plain": [
              "10"
            ]
          },
          "metadata": {
            "tags": []
          },
          "execution_count": 20
        }
      ]
    },
    {
      "cell_type": "code",
      "metadata": {
        "id": "eLgLlwdZtiBO"
      },
      "source": [
        "a=b=c=10"
      ],
      "execution_count": 21,
      "outputs": []
    },
    {
      "cell_type": "code",
      "metadata": {
        "colab": {
          "base_uri": "https://localhost:8080/"
        },
        "id": "4IGgsyLot_kg",
        "outputId": "3cdb9da5-b16e-4259-a78e-525a0e6262e0"
      },
      "source": [
        "print(a,b,c)"
      ],
      "execution_count": 22,
      "outputs": [
        {
          "output_type": "stream",
          "text": [
            "10 10 10\n"
          ],
          "name": "stdout"
        }
      ]
    },
    {
      "cell_type": "code",
      "metadata": {
        "colab": {
          "base_uri": "https://localhost:8080/"
        },
        "id": "Kf-wSbHLuCvC",
        "outputId": "ae64d6ec-b5ab-45c0-82a0-66b573ff0e20"
      },
      "source": [
        "var=14,5\n",
        "print(var)"
      ],
      "execution_count": 23,
      "outputs": [
        {
          "output_type": "stream",
          "text": [
            "(14, 5)\n"
          ],
          "name": "stdout"
        }
      ]
    },
    {
      "cell_type": "code",
      "metadata": {
        "colab": {
          "base_uri": "https://localhost:8080/"
        },
        "id": "TINenwk7us9D",
        "outputId": "99050a8c-bb05-43eb-fd8c-f6b4bee7e86f"
      },
      "source": [
        "var = 'Now Im a string'\n",
        "print (var)"
      ],
      "execution_count": 24,
      "outputs": [
        {
          "output_type": "stream",
          "text": [
            "Now Im a string\n"
          ],
          "name": "stdout"
        }
      ]
    },
    {
      "cell_type": "markdown",
      "metadata": {
        "id": "_tbuN3p3xV-3"
      },
      "source": [
        "### Variable Names"
      ]
    },
    {
      "cell_type": "code",
      "metadata": {
        "id": "KKNVzyg6uzCg"
      },
      "source": [
        "nama = 'Sadida'\n",
        "umur = 25\n",
        "punya_laptop= True"
      ],
      "execution_count": 25,
      "outputs": []
    },
    {
      "cell_type": "code",
      "metadata": {
        "colab": {
          "base_uri": "https://localhost:8080/"
        },
        "id": "btIdK2t5xiIA",
        "outputId": "7053fb01-e020-403f-93ef-e8e6486826e7"
      },
      "source": [
        "print (nama, umur, punya_laptop)"
      ],
      "execution_count": 26,
      "outputs": [
        {
          "output_type": "stream",
          "text": [
            "Sadida 25 True\n"
          ],
          "name": "stdout"
        }
      ]
    },
    {
      "cell_type": "markdown",
      "metadata": {
        "id": "xY7nGI0my6gh"
      },
      "source": [
        "### Operators and Expressions"
      ]
    },
    {
      "cell_type": "code",
      "metadata": {
        "id": "GEV7bbDMxma8"
      },
      "source": [
        "a=4\n",
        "b=3"
      ],
      "execution_count": 38,
      "outputs": []
    },
    {
      "cell_type": "code",
      "metadata": {
        "colab": {
          "base_uri": "https://localhost:8080/"
        },
        "id": "5MjXaMvAzCr1",
        "outputId": "7e4a1dd6-4057-4bac-af1a-897243212fe4"
      },
      "source": [
        "print(a+b)"
      ],
      "execution_count": 39,
      "outputs": [
        {
          "output_type": "stream",
          "text": [
            "7\n"
          ],
          "name": "stdout"
        }
      ]
    },
    {
      "cell_type": "code",
      "metadata": {
        "colab": {
          "base_uri": "https://localhost:8080/"
        },
        "id": "8vQ-peWUzHJh",
        "outputId": "2ffeeaf5-0f09-4185-d20f-01257dc99d3a"
      },
      "source": [
        "a + b - 5"
      ],
      "execution_count": 40,
      "outputs": [
        {
          "output_type": "execute_result",
          "data": {
            "text/plain": [
              "2"
            ]
          },
          "metadata": {
            "tags": []
          },
          "execution_count": 40
        }
      ]
    },
    {
      "cell_type": "code",
      "metadata": {
        "colab": {
          "base_uri": "https://localhost:8080/"
        },
        "id": "F75b5GKOzfwu",
        "outputId": "0319a442-00a5-4b61-eaec-f4227ea1e140"
      },
      "source": [
        "print(a+b)"
      ],
      "execution_count": 41,
      "outputs": [
        {
          "output_type": "stream",
          "text": [
            "7\n"
          ],
          "name": "stdout"
        }
      ]
    },
    {
      "cell_type": "code",
      "metadata": {
        "colab": {
          "base_uri": "https://localhost:8080/"
        },
        "id": "8UsWHwaM0ECO",
        "outputId": "860f4e2a-83bb-4f54-a19b-06261027c8f6"
      },
      "source": [
        "print(a-b)"
      ],
      "execution_count": 47,
      "outputs": [
        {
          "output_type": "stream",
          "text": [
            "1\n"
          ],
          "name": "stdout"
        }
      ]
    },
    {
      "cell_type": "code",
      "metadata": {
        "colab": {
          "base_uri": "https://localhost:8080/"
        },
        "id": "Cm2JKALi0GtN",
        "outputId": "e405cbba-3abd-495e-d5d3-3deca8221e06"
      },
      "source": [
        "print(a*b)"
      ],
      "execution_count": 43,
      "outputs": [
        {
          "output_type": "stream",
          "text": [
            "12\n"
          ],
          "name": "stdout"
        }
      ]
    },
    {
      "cell_type": "code",
      "metadata": {
        "colab": {
          "base_uri": "https://localhost:8080/"
        },
        "id": "mLw4_XQM0JX-",
        "outputId": "2bb6c7aa-316b-4b1f-d87b-82f5b8c02863"
      },
      "source": [
        "print(b/a)"
      ],
      "execution_count": 44,
      "outputs": [
        {
          "output_type": "stream",
          "text": [
            "0.75\n"
          ],
          "name": "stdout"
        }
      ]
    },
    {
      "cell_type": "code",
      "metadata": {
        "colab": {
          "base_uri": "https://localhost:8080/"
        },
        "id": "O-fN9ZYm0OQ7",
        "outputId": "009701e1-f11a-40cc-bc55-e2f6071b2ca3"
      },
      "source": [
        "print(a%b)"
      ],
      "execution_count": 45,
      "outputs": [
        {
          "output_type": "stream",
          "text": [
            "1\n"
          ],
          "name": "stdout"
        }
      ]
    },
    {
      "cell_type": "code",
      "metadata": {
        "colab": {
          "base_uri": "https://localhost:8080/"
        },
        "id": "wYvyJRss0QHB",
        "outputId": "741e65d3-4d4d-42f8-871e-0ffac19c5a84"
      },
      "source": [
        "print(a**b)"
      ],
      "execution_count": 46,
      "outputs": [
        {
          "output_type": "stream",
          "text": [
            "64\n"
          ],
          "name": "stdout"
        }
      ]
    },
    {
      "cell_type": "code",
      "metadata": {
        "id": "9IBVfUnL13JH"
      },
      "source": [
        "a=10\n",
        "b=20"
      ],
      "execution_count": 48,
      "outputs": []
    },
    {
      "cell_type": "code",
      "metadata": {
        "colab": {
          "base_uri": "https://localhost:8080/"
        },
        "id": "MgcaJ55E0VKa",
        "outputId": "083f8748-4c2f-4748-d93a-340589013897"
      },
      "source": [
        "print(a==b)"
      ],
      "execution_count": 49,
      "outputs": [
        {
          "output_type": "stream",
          "text": [
            "False\n"
          ],
          "name": "stdout"
        }
      ]
    },
    {
      "cell_type": "code",
      "metadata": {
        "colab": {
          "base_uri": "https://localhost:8080/"
        },
        "id": "Ms0M0Qjc18Fu",
        "outputId": "72d178ed-56b4-4de0-9146-1aa23bc01cd1"
      },
      "source": [
        "print(a!=b)"
      ],
      "execution_count": 50,
      "outputs": [
        {
          "output_type": "stream",
          "text": [
            "True\n"
          ],
          "name": "stdout"
        }
      ]
    },
    {
      "cell_type": "code",
      "metadata": {
        "colab": {
          "base_uri": "https://localhost:8080/"
        },
        "id": "-LwE-AW01_0Z",
        "outputId": "444ce84d-7615-404e-de77-617a2b71dc89"
      },
      "source": [
        "print(a<=b)"
      ],
      "execution_count": 51,
      "outputs": [
        {
          "output_type": "stream",
          "text": [
            "True\n"
          ],
          "name": "stdout"
        }
      ]
    },
    {
      "cell_type": "code",
      "metadata": {
        "colab": {
          "base_uri": "https://localhost:8080/"
        },
        "id": "bgJxgLGI2GKf",
        "outputId": "0bb141d4-b141-4877-be38-933f68f83e07"
      },
      "source": [
        "print(a>=b)"
      ],
      "execution_count": 53,
      "outputs": [
        {
          "output_type": "stream",
          "text": [
            "False\n"
          ],
          "name": "stdout"
        }
      ]
    },
    {
      "cell_type": "code",
      "metadata": {
        "id": "byL3OT3w2Iyh"
      },
      "source": [
        "x=10\n",
        "z='dum'"
      ],
      "execution_count": 57,
      "outputs": []
    },
    {
      "cell_type": "code",
      "metadata": {
        "colab": {
          "base_uri": "https://localhost:8080/"
        },
        "id": "xPQ4fAn82xRL",
        "outputId": "ccb9693e-2725-4302-cc66-a4a5396d412a"
      },
      "source": [
        "x == z"
      ],
      "execution_count": 58,
      "outputs": [
        {
          "output_type": "execute_result",
          "data": {
            "text/plain": [
              "False"
            ]
          },
          "metadata": {
            "tags": []
          },
          "execution_count": 58
        }
      ]
    },
    {
      "cell_type": "code",
      "metadata": {
        "colab": {
          "base_uri": "https://localhost:8080/"
        },
        "id": "hEE77o4v2yyR",
        "outputId": "f7074fc0-8d93-454f-a172-4711a763ad09"
      },
      "source": [
        "s='foo'\n",
        "print(s in 'That food for us')\n",
        "print(s in 'That good for us')"
      ],
      "execution_count": 59,
      "outputs": [
        {
          "output_type": "stream",
          "text": [
            "True\n",
            "False\n"
          ],
          "name": "stdout"
        }
      ]
    },
    {
      "cell_type": "markdown",
      "metadata": {
        "id": "6NTS3z-p4XoR"
      },
      "source": [
        "### Python List"
      ]
    },
    {
      "cell_type": "code",
      "metadata": {
        "id": "hWV85OFi3hmB"
      },
      "source": [
        "contohlist=[1,2,3,5,8,10]"
      ],
      "execution_count": 60,
      "outputs": []
    },
    {
      "cell_type": "code",
      "metadata": {
        "colab": {
          "base_uri": "https://localhost:8080/"
        },
        "id": "ov058stT4rAS",
        "outputId": "3da53916-8c46-4419-a4f0-a199f6b191dd"
      },
      "source": [
        "print(contohlist)"
      ],
      "execution_count": 61,
      "outputs": [
        {
          "output_type": "stream",
          "text": [
            "[1, 2, 3, 5, 8, 10]\n"
          ],
          "name": "stdout"
        }
      ]
    },
    {
      "cell_type": "code",
      "metadata": {
        "colab": {
          "base_uri": "https://localhost:8080/"
        },
        "id": "BUarVsTy4uoE",
        "outputId": "9ce06a0d-ec67-42e7-f9cc-5290eb78679f"
      },
      "source": [
        "a = ['sad','i','da']\n",
        "b = ['da','i','sa']\n",
        "a==b"
      ],
      "execution_count": 63,
      "outputs": [
        {
          "output_type": "execute_result",
          "data": {
            "text/plain": [
              "False"
            ]
          },
          "metadata": {
            "tags": []
          },
          "execution_count": 63
        }
      ]
    },
    {
      "cell_type": "code",
      "metadata": {
        "colab": {
          "base_uri": "https://localhost:8080/",
          "height": 34
        },
        "id": "phU8r-kL5kJB",
        "outputId": "eec7408c-697d-44e4-8333-ce8bf4877c09"
      },
      "source": [
        "a[0]"
      ],
      "execution_count": 65,
      "outputs": [
        {
          "output_type": "execute_result",
          "data": {
            "application/vnd.google.colaboratory.intrinsic+json": {
              "type": "string"
            },
            "text/plain": [
              "'sad'"
            ]
          },
          "metadata": {
            "tags": []
          },
          "execution_count": 65
        }
      ]
    },
    {
      "cell_type": "code",
      "metadata": {
        "colab": {
          "base_uri": "https://localhost:8080/",
          "height": 34
        },
        "id": "U-Pq8mi652HQ",
        "outputId": "d7ebda68-d62d-4bd6-ba62-44ef733e40c6"
      },
      "source": [
        "a[-1]"
      ],
      "execution_count": 66,
      "outputs": [
        {
          "output_type": "execute_result",
          "data": {
            "application/vnd.google.colaboratory.intrinsic+json": {
              "type": "string"
            },
            "text/plain": [
              "'da'"
            ]
          },
          "metadata": {
            "tags": []
          },
          "execution_count": 66
        }
      ]
    },
    {
      "cell_type": "code",
      "metadata": {
        "id": "88aNOQ306bXV"
      },
      "source": [
        "stringlist=['foo', 'bar', 'bas', 'qux', 'corge']"
      ],
      "execution_count": 67,
      "outputs": []
    },
    {
      "cell_type": "code",
      "metadata": {
        "colab": {
          "base_uri": "https://localhost:8080/"
        },
        "id": "HcGCh51O6oPG",
        "outputId": "8fbcb831-6e5b-49a3-9d4e-304b0dd14eb3"
      },
      "source": [
        "stringlist[2:5]"
      ],
      "execution_count": 69,
      "outputs": [
        {
          "output_type": "execute_result",
          "data": {
            "text/plain": [
              "['bas', 'qux', 'corge']"
            ]
          },
          "metadata": {
            "tags": []
          },
          "execution_count": 69
        }
      ]
    },
    {
      "cell_type": "code",
      "metadata": {
        "colab": {
          "base_uri": "https://localhost:8080/"
        },
        "id": "h2QTL6JQ637V",
        "outputId": "39dd1cc8-c28e-4127-e29f-3293f4d5d65a"
      },
      "source": [
        "len(a)"
      ],
      "execution_count": 71,
      "outputs": [
        {
          "output_type": "execute_result",
          "data": {
            "text/plain": [
              "3"
            ]
          },
          "metadata": {
            "tags": []
          },
          "execution_count": 71
        }
      ]
    },
    {
      "cell_type": "code",
      "metadata": {
        "colab": {
          "base_uri": "https://localhost:8080/",
          "height": 34
        },
        "id": "yG5Lfnte8XVu",
        "outputId": "f6e0be00-09eb-4a97-cc15-01255424bb2c"
      },
      "source": [
        "min(b)"
      ],
      "execution_count": 77,
      "outputs": [
        {
          "output_type": "execute_result",
          "data": {
            "application/vnd.google.colaboratory.intrinsic+json": {
              "type": "string"
            },
            "text/plain": [
              "'da'"
            ]
          },
          "metadata": {
            "tags": []
          },
          "execution_count": 77
        }
      ]
    },
    {
      "cell_type": "code",
      "metadata": {
        "colab": {
          "base_uri": "https://localhost:8080/",
          "height": 34
        },
        "id": "ovSo2kWn8fVW",
        "outputId": "b131a97d-c43d-435e-8f54-022940926e2f"
      },
      "source": [
        "max(b)"
      ],
      "execution_count": 78,
      "outputs": [
        {
          "output_type": "execute_result",
          "data": {
            "application/vnd.google.colaboratory.intrinsic+json": {
              "type": "string"
            },
            "text/plain": [
              "'sa'"
            ]
          },
          "metadata": {
            "tags": []
          },
          "execution_count": 78
        }
      ]
    },
    {
      "cell_type": "code",
      "metadata": {
        "id": "__C-7joJ9BCo"
      },
      "source": [
        "identitas = {\n",
        "    'nama' : 'Sadida',\n",
        "    'umur' : '25',\n",
        "    'instansi' : 'Telkom'\n",
        "}"
      ],
      "execution_count": 80,
      "outputs": []
    },
    {
      "cell_type": "code",
      "metadata": {
        "colab": {
          "base_uri": "https://localhost:8080/",
          "height": 34
        },
        "id": "LnMmjXJWAKLf",
        "outputId": "afc65ab8-5487-4b73-dd2d-ad7340f8a4ec"
      },
      "source": [
        "identitas['umur']"
      ],
      "execution_count": 86,
      "outputs": [
        {
          "output_type": "execute_result",
          "data": {
            "application/vnd.google.colaboratory.intrinsic+json": {
              "type": "string"
            },
            "text/plain": [
              "'25'"
            ]
          },
          "metadata": {
            "tags": []
          },
          "execution_count": 86
        }
      ]
    },
    {
      "cell_type": "code",
      "metadata": {
        "id": "-52zjdspAVwj"
      },
      "source": [
        "del identitas ['umur']"
      ],
      "execution_count": 87,
      "outputs": []
    },
    {
      "cell_type": "code",
      "metadata": {
        "colab": {
          "base_uri": "https://localhost:8080/"
        },
        "id": "X_KHr7PoIptV",
        "outputId": "a9fc86eb-e3f0-4edd-fdc2-fea1bf6e224d"
      },
      "source": [
        "identitas"
      ],
      "execution_count": 89,
      "outputs": [
        {
          "output_type": "execute_result",
          "data": {
            "text/plain": [
              "{'instansi': 'Telkom', 'nama': 'Sadida'}"
            ]
          },
          "metadata": {
            "tags": []
          },
          "execution_count": 89
        }
      ]
    },
    {
      "cell_type": "code",
      "metadata": {
        "id": "ex2m5sZxJXBX"
      },
      "source": [
        ""
      ],
      "execution_count": null,
      "outputs": []
    }
  ]
}